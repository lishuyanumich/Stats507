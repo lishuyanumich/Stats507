{
 "cells": [
  {
   "cell_type": "markdown",
   "metadata": {},
   "source": [
    "# Question 1 - Data Preparation [20 points]"
   ]
  },
  {
   "cell_type": "code",
   "execution_count": 1,
   "metadata": {},
   "outputs": [
    {
     "name": "stderr",
     "output_type": "stream",
     "text": [
      "/Users/ShuyanLi/anaconda3/lib/python3.7/site-packages/pandas/compat/_optional.py:138: UserWarning: Pandas requires version '2.7.0' or newer of 'numexpr' (version '2.6.9' currently installed).\n",
      "  warnings.warn(msg, UserWarning)\n"
     ]
    }
   ],
   "source": [
    "import pandas as pd\n",
    "import numpy as np\n",
    "from IPython.core.display import display, HTML\n",
    "import matplotlib.pyplot as plt\n",
    "import matplotlib as mpl\n",
    "## To check if the file exist in local, we should import this\n",
    "from os.path import exists\n",
    "import pickle"
   ]
  },
  {
   "cell_type": "code",
   "execution_count": 2,
   "metadata": {},
   "outputs": [],
   "source": [
    "## get data from website link\n",
    "base_url = \"https://www.eia.gov/consumption/residential/data/\""
   ]
  },
  {
   "cell_type": "code",
   "execution_count": 3,
   "metadata": {},
   "outputs": [],
   "source": [
    "## get link from the website\n",
    "url_2015 = base_url + \"2015/csv/recs2015_public_v4.csv\"\n",
    "## Use pandas to read data directly from the URL\n",
    "df_2015 = pd.read_csv(url_2015)\n",
    "## make column names in lower case and display year 2015 recs file\n",
    "df_2015 = df_2015.rename(columns=str.lower)"
   ]
  },
  {
   "cell_type": "code",
   "execution_count": 4,
   "metadata": {},
   "outputs": [
    {
     "name": "stderr",
     "output_type": "stream",
     "text": [
      "/Users/ShuyanLi/anaconda3/lib/python3.7/site-packages/IPython/core/interactiveshell.py:3296: DtypeWarning: Columns (717,718) have mixed types.Specify dtype option on import or set low_memory=False.\n",
      "  exec(code_obj, self.user_global_ns, self.user_ns)\n"
     ]
    }
   ],
   "source": [
    "## get link from the website\n",
    "url_2009 = base_url + \"2009/csv/recs2009_public.csv\"\n",
    "## Use pandas to read data directly from the URL\n",
    "df_2009 = pd.read_csv(url_2009)\n",
    "## make column names in lower case and display year 2009 recs file\n",
    "df_2009 = df_2009.rename(columns=str.lower)"
   ]
  },
  {
   "cell_type": "code",
   "execution_count": 5,
   "metadata": {},
   "outputs": [],
   "source": [
    "## get link from the website\n",
    "url_2009_weight = base_url + \"2009/csv/recs2009_public_repweights.csv\"\n",
    "## Use pandas to read data directly from the URL\n",
    "df_2009_weight = pd.read_csv(url_2009_weight)\n",
    "## make column names in lower case and display year 2009 recs weight file\n",
    "df_2009_weight = df_2009_weight.rename(columns=str.lower)"
   ]
  },
  {
   "cell_type": "markdown",
   "metadata": {},
   "source": [
    "Perform the requirement in question 1: \n",
    "\n",
    "Structure your code to use `exists` from the (built-in) `sys` module so the data are only downloaded when not already available locally."
   ]
  },
  {
   "cell_type": "code",
   "execution_count": 6,
   "metadata": {},
   "outputs": [],
   "source": [
    "def getdata(file_path, file_name, download_to_local):\n",
    "    \"\"\"\n",
    "    Function getdata tests the input file is available locally and return data we want.\n",
    "\n",
    "    Parameters\n",
    "    ----------\n",
    "    file_path: string\n",
    "               It is a local file path.\n",
    "    file_name: string\n",
    "               It is the name of the file we want to get access to.\n",
    "    download_to_local: boolean\n",
    "               True if we want to download the file. False if we do not want download the data.\n",
    "    \n",
    "\n",
    "    Returns\n",
    "    -------\n",
    "    A dataframe that is the same as file_name.\n",
    "\n",
    "    \"\"\"\n",
    "    \n",
    "    if (file_name == \"df_2009_weight\"):\n",
    "        if exists(file_path+'df_2009_weight.pkl'):\n",
    "            print(\"The file is already in your local path!\")\n",
    "            with open(file_path+'df_2009_weight.pkl', 'rb') as f:\n",
    "                data = pickle.load(f)\n",
    "            return(data)\n",
    "        else:\n",
    "            print(\"The file is downloading to your preferred file path...\")\n",
    "            ## get link from the website\n",
    "            url_2009_weight = base_url + \"2009/csv/recs2009_public_repweights.csv\"\n",
    "            ## Use pandas to read data directly from the URL\n",
    "            df_2009_weight = pd.read_csv(url_2009_weight)\n",
    "            ## make column names in lower case and display year 2009 recs weight file\n",
    "            df_2009_weight = df_2009_weight.rename(columns=str.lower)\n",
    "            if (download_to_local == True):\n",
    "                ## download 'df_2009_weight' to local\n",
    "                df_2009_weight.to_pickle(file_path+'df_2009_weight.pkl')\n",
    "            return df_2009_weight\n",
    "    elif (file_name == \"df_2009\"):\n",
    "        if exists(file_path+'df_2009.csv'):\n",
    "            print(\"The file is already in your local path!\")\n",
    "            with open(file_path+'df_2009.pkl', 'rb') as f:\n",
    "                data = pickle.load(f)\n",
    "            return(data)\n",
    "        else:\n",
    "            print(\"The file is downloading to your preferred file path...\")\n",
    "            ## get link from the website\n",
    "            url_2009 = base_url + \"2009/csv/recs2009_public.csv\"\n",
    "            ## Use pandas to read data directly from the URL\n",
    "            df_2009 = pd.read_csv(url_2009)\n",
    "            ## make column names in lower case and display year 2009 recs file\n",
    "            df_2009 = df_2009.rename(columns=str.lower)\n",
    "            if (download_to_local == True):\n",
    "                ## download 'df_2009' to local\n",
    "                df_2009.to_pickle(file_path+'df_2009_weight.pkl')\n",
    "            return df_2009_weight\n",
    "    elif (file_name == \"df_2015\"):\n",
    "        if exists(file_path+'df_2015.csv'):\n",
    "            print(\"The file is already in your local path!\")\n",
    "            with open(file_path+'df_2015.pkl', 'rb') as f:\n",
    "                data = pickle.load(f)\n",
    "            return(data)\n",
    "        else:\n",
    "            print(\"The file is downloading to your preferred file path...\")\n",
    "            ## get link from the website\n",
    "            url_2015 = base_url + \"2015/csv/recs2015_public.csv\"\n",
    "            ## Use pandas to read data directly from the URL\n",
    "            df_2015 = pd.read_csv(url_2015)\n",
    "            ## make column names in lower case and display year 2015 recs file\n",
    "            df_2015 = df_2015.rename(columns=str.lower)\n",
    "            if (download_to_local == True):\n",
    "                ## download 'df_2015' to local\n",
    "                df_2015.to_pickle(file_path+'df_2009_weight.pkl')\n",
    "            return df_2015\n",
    "    else:\n",
    "        print(\"There is no such file!!!\")"
   ]
  },
  {
   "cell_type": "code",
   "execution_count": 7,
   "metadata": {},
   "outputs": [
    {
     "name": "stdout",
     "output_type": "stream",
     "text": [
      "The file is already in your local path!\n"
     ]
    },
    {
     "data": {
      "text/html": [
       "<div>\n",
       "<style scoped>\n",
       "    .dataframe tbody tr th:only-of-type {\n",
       "        vertical-align: middle;\n",
       "    }\n",
       "\n",
       "    .dataframe tbody tr th {\n",
       "        vertical-align: top;\n",
       "    }\n",
       "\n",
       "    .dataframe thead th {\n",
       "        text-align: right;\n",
       "    }\n",
       "</style>\n",
       "<table border=\"1\" class=\"dataframe\">\n",
       "  <thead>\n",
       "    <tr style=\"text-align: right;\">\n",
       "      <th></th>\n",
       "      <th>doeid</th>\n",
       "      <th>nweight</th>\n",
       "      <th>brr_weight_1</th>\n",
       "      <th>brr_weight_2</th>\n",
       "      <th>brr_weight_3</th>\n",
       "      <th>brr_weight_4</th>\n",
       "      <th>brr_weight_5</th>\n",
       "      <th>brr_weight_6</th>\n",
       "      <th>brr_weight_7</th>\n",
       "      <th>brr_weight_8</th>\n",
       "      <th>...</th>\n",
       "      <th>brr_weight_235</th>\n",
       "      <th>brr_weight_236</th>\n",
       "      <th>brr_weight_237</th>\n",
       "      <th>brr_weight_238</th>\n",
       "      <th>brr_weight_239</th>\n",
       "      <th>brr_weight_240</th>\n",
       "      <th>brr_weight_241</th>\n",
       "      <th>brr_weight_242</th>\n",
       "      <th>brr_weight_243</th>\n",
       "      <th>brr_weight_244</th>\n",
       "    </tr>\n",
       "  </thead>\n",
       "  <tbody>\n",
       "    <tr>\n",
       "      <th>0</th>\n",
       "      <td>1</td>\n",
       "      <td>2471.679705</td>\n",
       "      <td>3628.305158</td>\n",
       "      <td>1392.373673</td>\n",
       "      <td>1271.181424</td>\n",
       "      <td>3528.052756</td>\n",
       "      <td>3478.045539</td>\n",
       "      <td>1164.560766</td>\n",
       "      <td>1215.035282</td>\n",
       "      <td>1204.172316</td>\n",
       "      <td>...</td>\n",
       "      <td>1390.318940</td>\n",
       "      <td>1134.968007</td>\n",
       "      <td>1195.730023</td>\n",
       "      <td>1304.300183</td>\n",
       "      <td>1248.137817</td>\n",
       "      <td>1230.150977</td>\n",
       "      <td>1157.195411</td>\n",
       "      <td>1156.412430</td>\n",
       "      <td>1240.217824</td>\n",
       "      <td>3655.101693</td>\n",
       "    </tr>\n",
       "    <tr>\n",
       "      <th>1</th>\n",
       "      <td>2</td>\n",
       "      <td>8599.172010</td>\n",
       "      <td>4408.308000</td>\n",
       "      <td>4247.696575</td>\n",
       "      <td>4450.561135</td>\n",
       "      <td>13207.910560</td>\n",
       "      <td>4178.691121</td>\n",
       "      <td>4271.613426</td>\n",
       "      <td>4219.739488</td>\n",
       "      <td>4229.454405</td>\n",
       "      <td>...</td>\n",
       "      <td>12811.288200</td>\n",
       "      <td>4236.006271</td>\n",
       "      <td>12779.722250</td>\n",
       "      <td>12680.646870</td>\n",
       "      <td>13172.272250</td>\n",
       "      <td>13656.849190</td>\n",
       "      <td>4246.979562</td>\n",
       "      <td>13134.213440</td>\n",
       "      <td>12624.316870</td>\n",
       "      <td>12846.242170</td>\n",
       "    </tr>\n",
       "    <tr>\n",
       "      <th>2</th>\n",
       "      <td>3</td>\n",
       "      <td>8969.915921</td>\n",
       "      <td>13664.732100</td>\n",
       "      <td>13655.213030</td>\n",
       "      <td>4359.190122</td>\n",
       "      <td>13086.068610</td>\n",
       "      <td>13721.970010</td>\n",
       "      <td>13459.082130</td>\n",
       "      <td>4749.199418</td>\n",
       "      <td>4689.040317</td>\n",
       "      <td>...</td>\n",
       "      <td>12170.897940</td>\n",
       "      <td>12829.708110</td>\n",
       "      <td>13637.133920</td>\n",
       "      <td>13098.702000</td>\n",
       "      <td>12569.565770</td>\n",
       "      <td>14155.301240</td>\n",
       "      <td>5008.801785</td>\n",
       "      <td>5256.419281</td>\n",
       "      <td>13201.724800</td>\n",
       "      <td>4812.600110</td>\n",
       "    </tr>\n",
       "    <tr>\n",
       "      <th>3</th>\n",
       "      <td>4</td>\n",
       "      <td>18003.639600</td>\n",
       "      <td>9456.435434</td>\n",
       "      <td>25723.464490</td>\n",
       "      <td>25125.994190</td>\n",
       "      <td>9334.577574</td>\n",
       "      <td>28340.387380</td>\n",
       "      <td>8659.271182</td>\n",
       "      <td>9079.577826</td>\n",
       "      <td>9200.147549</td>\n",
       "      <td>...</td>\n",
       "      <td>8519.486929</td>\n",
       "      <td>24214.978000</td>\n",
       "      <td>9840.195847</td>\n",
       "      <td>26856.650810</td>\n",
       "      <td>25453.890870</td>\n",
       "      <td>8483.396618</td>\n",
       "      <td>26383.441980</td>\n",
       "      <td>26510.027830</td>\n",
       "      <td>27188.612470</td>\n",
       "      <td>9534.025088</td>\n",
       "    </tr>\n",
       "    <tr>\n",
       "      <th>4</th>\n",
       "      <td>5</td>\n",
       "      <td>5999.605242</td>\n",
       "      <td>8659.554041</td>\n",
       "      <td>3269.734038</td>\n",
       "      <td>2910.690905</td>\n",
       "      <td>2798.774832</td>\n",
       "      <td>8544.785536</td>\n",
       "      <td>3091.628917</td>\n",
       "      <td>2939.910109</td>\n",
       "      <td>3251.644196</td>\n",
       "      <td>...</td>\n",
       "      <td>2648.413487</td>\n",
       "      <td>7770.479222</td>\n",
       "      <td>3206.892604</td>\n",
       "      <td>8274.644460</td>\n",
       "      <td>2920.173900</td>\n",
       "      <td>3005.523507</td>\n",
       "      <td>9469.217579</td>\n",
       "      <td>3427.954293</td>\n",
       "      <td>3218.392309</td>\n",
       "      <td>3251.371247</td>\n",
       "    </tr>\n",
       "    <tr>\n",
       "      <th>...</th>\n",
       "      <td>...</td>\n",
       "      <td>...</td>\n",
       "      <td>...</td>\n",
       "      <td>...</td>\n",
       "      <td>...</td>\n",
       "      <td>...</td>\n",
       "      <td>...</td>\n",
       "      <td>...</td>\n",
       "      <td>...</td>\n",
       "      <td>...</td>\n",
       "      <td>...</td>\n",
       "      <td>...</td>\n",
       "      <td>...</td>\n",
       "      <td>...</td>\n",
       "      <td>...</td>\n",
       "      <td>...</td>\n",
       "      <td>...</td>\n",
       "      <td>...</td>\n",
       "      <td>...</td>\n",
       "      <td>...</td>\n",
       "      <td>...</td>\n",
       "    </tr>\n",
       "    <tr>\n",
       "      <th>12078</th>\n",
       "      <td>12079</td>\n",
       "      <td>10219.802880</td>\n",
       "      <td>4971.444986</td>\n",
       "      <td>5118.738130</td>\n",
       "      <td>16323.838600</td>\n",
       "      <td>16114.371840</td>\n",
       "      <td>15516.980350</td>\n",
       "      <td>4729.643641</td>\n",
       "      <td>14820.087660</td>\n",
       "      <td>15909.196600</td>\n",
       "      <td>...</td>\n",
       "      <td>4641.168902</td>\n",
       "      <td>15373.360120</td>\n",
       "      <td>5398.060666</td>\n",
       "      <td>5190.461411</td>\n",
       "      <td>14353.431130</td>\n",
       "      <td>4458.883796</td>\n",
       "      <td>16606.352160</td>\n",
       "      <td>15397.944010</td>\n",
       "      <td>15886.510090</td>\n",
       "      <td>15669.237850</td>\n",
       "    </tr>\n",
       "    <tr>\n",
       "      <th>12079</th>\n",
       "      <td>12080</td>\n",
       "      <td>8689.074445</td>\n",
       "      <td>13379.958700</td>\n",
       "      <td>12643.430680</td>\n",
       "      <td>4925.686838</td>\n",
       "      <td>3901.787982</td>\n",
       "      <td>4453.946818</td>\n",
       "      <td>4518.165817</td>\n",
       "      <td>13984.737830</td>\n",
       "      <td>12786.838190</td>\n",
       "      <td>...</td>\n",
       "      <td>13724.315210</td>\n",
       "      <td>4774.309762</td>\n",
       "      <td>4421.945515</td>\n",
       "      <td>13766.511860</td>\n",
       "      <td>12309.989790</td>\n",
       "      <td>12649.677120</td>\n",
       "      <td>13862.104570</td>\n",
       "      <td>4383.465655</td>\n",
       "      <td>13033.819830</td>\n",
       "      <td>3976.693639</td>\n",
       "    </tr>\n",
       "    <tr>\n",
       "      <th>12080</th>\n",
       "      <td>12081</td>\n",
       "      <td>4697.213624</td>\n",
       "      <td>2344.955794</td>\n",
       "      <td>7032.330646</td>\n",
       "      <td>2361.206603</td>\n",
       "      <td>7039.214013</td>\n",
       "      <td>2445.940157</td>\n",
       "      <td>2271.017810</td>\n",
       "      <td>6699.021505</td>\n",
       "      <td>7028.675252</td>\n",
       "      <td>...</td>\n",
       "      <td>2405.426480</td>\n",
       "      <td>6985.802482</td>\n",
       "      <td>6828.306201</td>\n",
       "      <td>2382.442743</td>\n",
       "      <td>2376.716399</td>\n",
       "      <td>2352.500819</td>\n",
       "      <td>6853.585876</td>\n",
       "      <td>2272.806556</td>\n",
       "      <td>6854.803388</td>\n",
       "      <td>2479.082636</td>\n",
       "    </tr>\n",
       "    <tr>\n",
       "      <th>12081</th>\n",
       "      <td>12082</td>\n",
       "      <td>13155.678790</td>\n",
       "      <td>6701.717641</td>\n",
       "      <td>7013.500661</td>\n",
       "      <td>6372.473843</td>\n",
       "      <td>6930.883853</td>\n",
       "      <td>6899.686416</td>\n",
       "      <td>6467.124670</td>\n",
       "      <td>19294.640290</td>\n",
       "      <td>6433.589904</td>\n",
       "      <td>...</td>\n",
       "      <td>6547.815677</td>\n",
       "      <td>6959.110117</td>\n",
       "      <td>19090.172760</td>\n",
       "      <td>6699.440676</td>\n",
       "      <td>6687.420209</td>\n",
       "      <td>20062.409940</td>\n",
       "      <td>20375.068830</td>\n",
       "      <td>19478.810910</td>\n",
       "      <td>6721.075376</td>\n",
       "      <td>17663.466590</td>\n",
       "    </tr>\n",
       "    <tr>\n",
       "      <th>12082</th>\n",
       "      <td>12083</td>\n",
       "      <td>7703.426315</td>\n",
       "      <td>3949.109962</td>\n",
       "      <td>11415.686600</td>\n",
       "      <td>3986.961736</td>\n",
       "      <td>11832.088680</td>\n",
       "      <td>3743.411471</td>\n",
       "      <td>3826.654385</td>\n",
       "      <td>3780.183973</td>\n",
       "      <td>3788.886921</td>\n",
       "      <td>...</td>\n",
       "      <td>3825.593695</td>\n",
       "      <td>11384.268910</td>\n",
       "      <td>3816.167748</td>\n",
       "      <td>3786.582734</td>\n",
       "      <td>11800.162680</td>\n",
       "      <td>4078.087647</td>\n",
       "      <td>11413.759630</td>\n",
       "      <td>3922.022777</td>\n",
       "      <td>3769.761968</td>\n",
       "      <td>3836.031339</td>\n",
       "    </tr>\n",
       "  </tbody>\n",
       "</table>\n",
       "<p>12083 rows × 246 columns</p>\n",
       "</div>"
      ],
      "text/plain": [
       "       doeid       nweight  brr_weight_1  brr_weight_2  brr_weight_3  \\\n",
       "0          1   2471.679705   3628.305158   1392.373673   1271.181424   \n",
       "1          2   8599.172010   4408.308000   4247.696575   4450.561135   \n",
       "2          3   8969.915921  13664.732100  13655.213030   4359.190122   \n",
       "3          4  18003.639600   9456.435434  25723.464490  25125.994190   \n",
       "4          5   5999.605242   8659.554041   3269.734038   2910.690905   \n",
       "...      ...           ...           ...           ...           ...   \n",
       "12078  12079  10219.802880   4971.444986   5118.738130  16323.838600   \n",
       "12079  12080   8689.074445  13379.958700  12643.430680   4925.686838   \n",
       "12080  12081   4697.213624   2344.955794   7032.330646   2361.206603   \n",
       "12081  12082  13155.678790   6701.717641   7013.500661   6372.473843   \n",
       "12082  12083   7703.426315   3949.109962  11415.686600   3986.961736   \n",
       "\n",
       "       brr_weight_4  brr_weight_5  brr_weight_6  brr_weight_7  brr_weight_8  \\\n",
       "0       3528.052756   3478.045539   1164.560766   1215.035282   1204.172316   \n",
       "1      13207.910560   4178.691121   4271.613426   4219.739488   4229.454405   \n",
       "2      13086.068610  13721.970010  13459.082130   4749.199418   4689.040317   \n",
       "3       9334.577574  28340.387380   8659.271182   9079.577826   9200.147549   \n",
       "4       2798.774832   8544.785536   3091.628917   2939.910109   3251.644196   \n",
       "...             ...           ...           ...           ...           ...   \n",
       "12078  16114.371840  15516.980350   4729.643641  14820.087660  15909.196600   \n",
       "12079   3901.787982   4453.946818   4518.165817  13984.737830  12786.838190   \n",
       "12080   7039.214013   2445.940157   2271.017810   6699.021505   7028.675252   \n",
       "12081   6930.883853   6899.686416   6467.124670  19294.640290   6433.589904   \n",
       "12082  11832.088680   3743.411471   3826.654385   3780.183973   3788.886921   \n",
       "\n",
       "       ...  brr_weight_235  brr_weight_236  brr_weight_237  brr_weight_238  \\\n",
       "0      ...     1390.318940     1134.968007     1195.730023     1304.300183   \n",
       "1      ...    12811.288200     4236.006271    12779.722250    12680.646870   \n",
       "2      ...    12170.897940    12829.708110    13637.133920    13098.702000   \n",
       "3      ...     8519.486929    24214.978000     9840.195847    26856.650810   \n",
       "4      ...     2648.413487     7770.479222     3206.892604     8274.644460   \n",
       "...    ...             ...             ...             ...             ...   \n",
       "12078  ...     4641.168902    15373.360120     5398.060666     5190.461411   \n",
       "12079  ...    13724.315210     4774.309762     4421.945515    13766.511860   \n",
       "12080  ...     2405.426480     6985.802482     6828.306201     2382.442743   \n",
       "12081  ...     6547.815677     6959.110117    19090.172760     6699.440676   \n",
       "12082  ...     3825.593695    11384.268910     3816.167748     3786.582734   \n",
       "\n",
       "       brr_weight_239  brr_weight_240  brr_weight_241  brr_weight_242  \\\n",
       "0         1248.137817     1230.150977     1157.195411     1156.412430   \n",
       "1        13172.272250    13656.849190     4246.979562    13134.213440   \n",
       "2        12569.565770    14155.301240     5008.801785     5256.419281   \n",
       "3        25453.890870     8483.396618    26383.441980    26510.027830   \n",
       "4         2920.173900     3005.523507     9469.217579     3427.954293   \n",
       "...               ...             ...             ...             ...   \n",
       "12078    14353.431130     4458.883796    16606.352160    15397.944010   \n",
       "12079    12309.989790    12649.677120    13862.104570     4383.465655   \n",
       "12080     2376.716399     2352.500819     6853.585876     2272.806556   \n",
       "12081     6687.420209    20062.409940    20375.068830    19478.810910   \n",
       "12082    11800.162680     4078.087647    11413.759630     3922.022777   \n",
       "\n",
       "       brr_weight_243  brr_weight_244  \n",
       "0         1240.217824     3655.101693  \n",
       "1        12624.316870    12846.242170  \n",
       "2        13201.724800     4812.600110  \n",
       "3        27188.612470     9534.025088  \n",
       "4         3218.392309     3251.371247  \n",
       "...               ...             ...  \n",
       "12078    15886.510090    15669.237850  \n",
       "12079    13033.819830     3976.693639  \n",
       "12080     6854.803388     2479.082636  \n",
       "12081     6721.075376    17663.466590  \n",
       "12082     3769.761968     3836.031339  \n",
       "\n",
       "[12083 rows x 246 columns]"
      ]
     },
     "execution_count": 7,
     "metadata": {},
     "output_type": "execute_result"
    }
   ],
   "source": [
    "## Demo of how to use Function getdata(file_path, file_name, download_to_local)\n",
    "getdata(file_path = \"/Users/ShuyanLi/Desktop/\", file_name = \"df_2009_weight\", download_to_local = True)"
   ]
  },
  {
   "cell_type": "markdown",
   "metadata": {},
   "source": [
    "## part a)"
   ]
  },
  {
   "cell_type": "markdown",
   "metadata": {},
   "source": [
    "Separately for 2009 and 2015, construct datasets containing just the minimal necessary variables identified in the warmup, excluding the replicate weights. Choose an appropriate format for each of the remaining columns, particularly by creating categorical types where appropriate."
   ]
  },
  {
   "cell_type": "code",
   "execution_count": 19,
   "metadata": {},
   "outputs": [],
   "source": [
    "## There are five variables we are interested related to this question:\n",
    "## 'DOEID', 'REGIONC', 'HDD65', 'CDD65', 'NWEIGHT'\n",
    "## Then, we create two new dataframes to store these variables for year 2009 and 2015\n",
    "df_2009_new = df_2009[['doeid', 'regionc', 'hdd65', 'cdd65', 'nweight']]\n",
    "df_2015_new = df_2015[['doeid', 'regionc', 'hdd65', 'cdd65', 'nweight']]"
   ]
  },
  {
   "cell_type": "code",
   "execution_count": 20,
   "metadata": {},
   "outputs": [
    {
     "data": {
      "text/plain": [
       "doeid        int64\n",
       "regionc      int64\n",
       "hdd65        int64\n",
       "cdd65        int64\n",
       "nweight    float64\n",
       "dtype: object"
      ]
     },
     "execution_count": 20,
     "metadata": {},
     "output_type": "execute_result"
    }
   ],
   "source": [
    "df_2009_new.dtypes"
   ]
  },
  {
   "cell_type": "markdown",
   "metadata": {},
   "source": [
    "We need to change \"REGIONC\" column type into \"categorical\". The other column format is appropriate."
   ]
  },
  {
   "cell_type": "code",
   "execution_count": 21,
   "metadata": {},
   "outputs": [
    {
     "name": "stderr",
     "output_type": "stream",
     "text": [
      "/Users/ShuyanLi/anaconda3/lib/python3.7/site-packages/ipykernel_launcher.py:5: SettingWithCopyWarning: \n",
      "A value is trying to be set on a copy of a slice from a DataFrame.\n",
      "Try using .loc[row_indexer,col_indexer] = value instead\n",
      "\n",
      "See the caveats in the documentation: https://pandas.pydata.org/pandas-docs/stable/user_guide/indexing.html#returning-a-view-versus-a-copy\n",
      "  \"\"\"\n",
      "/Users/ShuyanLi/anaconda3/lib/python3.7/site-packages/ipykernel_launcher.py:11: SettingWithCopyWarning: \n",
      "A value is trying to be set on a copy of a slice from a DataFrame.\n",
      "Try using .loc[row_indexer,col_indexer] = value instead\n",
      "\n",
      "See the caveats in the documentation: https://pandas.pydata.org/pandas-docs/stable/user_guide/indexing.html#returning-a-view-versus-a-copy\n",
      "  # This is added back by InteractiveShellApp.init_path()\n"
     ]
    }
   ],
   "source": [
    "df_2009_new['regionc'] = pd.Categorical(df_2009_new['regionc'].replace({\n",
    "    1:\"Northeast Census Region\",\n",
    "    2:\"Midwest Census Region\",\n",
    "    3:\"South Census Region\",\n",
    "    4:\"West Census Region\"\n",
    "}))\n",
    "df_2015_new['regionc'] = pd.Categorical(df_2015_new['regionc'].replace({\n",
    "    1:\"Northeast Census Region\",\n",
    "    2:\"Midwest Census Region\",\n",
    "    3:\"South Census Region\",\n",
    "    4:\"West Census Region\"\n",
    "}))"
   ]
  },
  {
   "cell_type": "code",
   "execution_count": 22,
   "metadata": {
    "scrolled": true
   },
   "outputs": [
    {
     "data": {
      "text/plain": [
       "doeid         int64\n",
       "regionc    category\n",
       "hdd65         int64\n",
       "cdd65         int64\n",
       "nweight     float64\n",
       "dtype: object"
      ]
     },
     "execution_count": 22,
     "metadata": {},
     "output_type": "execute_result"
    }
   ],
   "source": [
    "## display year 2009 dataframe only containing variables we are interested in\n",
    "df_2009_new.dtypes"
   ]
  },
  {
   "cell_type": "code",
   "execution_count": 23,
   "metadata": {
    "scrolled": true
   },
   "outputs": [
    {
     "data": {
      "text/plain": [
       "doeid         int64\n",
       "regionc    category\n",
       "hdd65         int64\n",
       "cdd65         int64\n",
       "nweight     float64\n",
       "dtype: object"
      ]
     },
     "execution_count": 23,
     "metadata": {},
     "output_type": "execute_result"
    }
   ],
   "source": [
    "## display year 2015 dataframe only containing variables we are interested in\n",
    "df_2015_new.dtypes"
   ]
  },
  {
   "cell_type": "markdown",
   "metadata": {},
   "source": [
    "## part b)"
   ]
  },
  {
   "cell_type": "markdown",
   "metadata": {},
   "source": [
    "Separatley for 2009 and 2015, construct datasets containing just the unique case ids and the replicate weights (not the primary final weight) in a “long” format with one weight and residence per row."
   ]
  },
  {
   "cell_type": "markdown",
   "metadata": {},
   "source": [
    "For 2009:"
   ]
  },
  {
   "cell_type": "code",
   "execution_count": 24,
   "metadata": {},
   "outputs": [],
   "source": [
    "## create the brr_weight2009_list containing \"DOEID\" and all \"brr_weight\" names\n",
    "brr_weight2009_list = [\"doeid\"]\n",
    "## create the weight_number2009_list containing numbers from 1 to 244\n",
    "weight_number2009_list = []\n",
    "for i in range(1,245):\n",
    "    weight_number2009_list.append(i)\n",
    "    brr_weight2009_list.append(\"brr_weight_\"+str(i))"
   ]
  },
  {
   "cell_type": "code",
   "execution_count": 25,
   "metadata": {},
   "outputs": [
    {
     "data": {
      "text/html": [
       "<div>\n",
       "<style scoped>\n",
       "    .dataframe tbody tr th:only-of-type {\n",
       "        vertical-align: middle;\n",
       "    }\n",
       "\n",
       "    .dataframe tbody tr th {\n",
       "        vertical-align: top;\n",
       "    }\n",
       "\n",
       "    .dataframe thead th {\n",
       "        text-align: right;\n",
       "    }\n",
       "</style>\n",
       "<table border=\"1\" class=\"dataframe\">\n",
       "  <thead>\n",
       "    <tr style=\"text-align: right;\">\n",
       "      <th></th>\n",
       "      <th>id</th>\n",
       "      <th>replicated weights</th>\n",
       "      <th>No. brr weight</th>\n",
       "    </tr>\n",
       "  </thead>\n",
       "  <tbody>\n",
       "    <tr>\n",
       "      <th>0</th>\n",
       "      <td>1</td>\n",
       "      <td>3628.305158</td>\n",
       "      <td>1</td>\n",
       "    </tr>\n",
       "    <tr>\n",
       "      <th>1</th>\n",
       "      <td>1</td>\n",
       "      <td>1392.373673</td>\n",
       "      <td>2</td>\n",
       "    </tr>\n",
       "    <tr>\n",
       "      <th>2</th>\n",
       "      <td>1</td>\n",
       "      <td>1271.181424</td>\n",
       "      <td>3</td>\n",
       "    </tr>\n",
       "    <tr>\n",
       "      <th>3</th>\n",
       "      <td>1</td>\n",
       "      <td>3528.052756</td>\n",
       "      <td>4</td>\n",
       "    </tr>\n",
       "    <tr>\n",
       "      <th>4</th>\n",
       "      <td>1</td>\n",
       "      <td>3478.045539</td>\n",
       "      <td>5</td>\n",
       "    </tr>\n",
       "    <tr>\n",
       "      <th>...</th>\n",
       "      <td>...</td>\n",
       "      <td>...</td>\n",
       "      <td>...</td>\n",
       "    </tr>\n",
       "    <tr>\n",
       "      <th>2948247</th>\n",
       "      <td>12083</td>\n",
       "      <td>4078.087647</td>\n",
       "      <td>240</td>\n",
       "    </tr>\n",
       "    <tr>\n",
       "      <th>2948248</th>\n",
       "      <td>12083</td>\n",
       "      <td>11413.759630</td>\n",
       "      <td>241</td>\n",
       "    </tr>\n",
       "    <tr>\n",
       "      <th>2948249</th>\n",
       "      <td>12083</td>\n",
       "      <td>3922.022777</td>\n",
       "      <td>242</td>\n",
       "    </tr>\n",
       "    <tr>\n",
       "      <th>2948250</th>\n",
       "      <td>12083</td>\n",
       "      <td>3769.761968</td>\n",
       "      <td>243</td>\n",
       "    </tr>\n",
       "    <tr>\n",
       "      <th>2948251</th>\n",
       "      <td>12083</td>\n",
       "      <td>3836.031339</td>\n",
       "      <td>244</td>\n",
       "    </tr>\n",
       "  </tbody>\n",
       "</table>\n",
       "<p>2948252 rows × 3 columns</p>\n",
       "</div>"
      ],
      "text/plain": [
       "            id  replicated weights  No. brr weight\n",
       "0            1         3628.305158               1\n",
       "1            1         1392.373673               2\n",
       "2            1         1271.181424               3\n",
       "3            1         3528.052756               4\n",
       "4            1         3478.045539               5\n",
       "...        ...                 ...             ...\n",
       "2948247  12083         4078.087647             240\n",
       "2948248  12083        11413.759630             241\n",
       "2948249  12083         3922.022777             242\n",
       "2948250  12083         3769.761968             243\n",
       "2948251  12083         3836.031339             244\n",
       "\n",
       "[2948252 rows x 3 columns]"
      ]
     },
     "execution_count": 25,
     "metadata": {},
     "output_type": "execute_result"
    }
   ],
   "source": [
    "brr_weight2009 = df_2009_weight[brr_weight2009_list]\n",
    "brr_weight2009_long = brr_weight2009.set_index(['doeid'])\n",
    "brr_weight2009_long.columns = [len(weight_number2009_list)*['2009_rep_weights'], 1*weight_number2009_list]\n",
    "brr_weight2009_long.columns.names = (None, 'brr_weight_number')\n",
    "brr_weight2009_long = brr_weight2009_long.stack()\n",
    "brr_weight2009_long.reset_index(inplace=True)\n",
    "brr_weight2009_long = brr_weight2009_long[['doeid', '2009_rep_weights', 'brr_weight_number']]\n",
    "new_col = ['id', 'replicated weights','No. brr weight']\n",
    "brr_weight2009_long.columns = new_col\n",
    "## display datasets containing just the unique case ids and the replicate weights of year 2009\n",
    "brr_weight2009_long"
   ]
  },
  {
   "cell_type": "markdown",
   "metadata": {},
   "source": [
    "For 2015:"
   ]
  },
  {
   "cell_type": "code",
   "execution_count": 26,
   "metadata": {},
   "outputs": [],
   "source": [
    "## create the brr_weight2015_list containing \"DOEID\" and all \"BRRWT\" names\n",
    "brr_weight2015_list = [\"doeid\"]\n",
    "## create the weight_number2015_list containing numbers from 1 to 96\n",
    "weight_number2015_list = []\n",
    "## search the 2015 rec file, we find 96 brr_weight data\n",
    "for i in range(1,97):\n",
    "    weight_number2015_list.append(i)\n",
    "    brr_weight2015_list.append(\"brrwt\"+str(i))"
   ]
  },
  {
   "cell_type": "code",
   "execution_count": 27,
   "metadata": {},
   "outputs": [
    {
     "data": {
      "text/html": [
       "<div>\n",
       "<style scoped>\n",
       "    .dataframe tbody tr th:only-of-type {\n",
       "        vertical-align: middle;\n",
       "    }\n",
       "\n",
       "    .dataframe tbody tr th {\n",
       "        vertical-align: top;\n",
       "    }\n",
       "\n",
       "    .dataframe thead th {\n",
       "        text-align: right;\n",
       "    }\n",
       "</style>\n",
       "<table border=\"1\" class=\"dataframe\">\n",
       "  <thead>\n",
       "    <tr style=\"text-align: right;\">\n",
       "      <th></th>\n",
       "      <th>id</th>\n",
       "      <th>replicated weights</th>\n",
       "      <th>No. brr weight</th>\n",
       "    </tr>\n",
       "  </thead>\n",
       "  <tbody>\n",
       "    <tr>\n",
       "      <th>0</th>\n",
       "      <td>10001</td>\n",
       "      <td>16555.311270</td>\n",
       "      <td>1</td>\n",
       "    </tr>\n",
       "    <tr>\n",
       "      <th>1</th>\n",
       "      <td>10001</td>\n",
       "      <td>5938.014320</td>\n",
       "      <td>2</td>\n",
       "    </tr>\n",
       "    <tr>\n",
       "      <th>2</th>\n",
       "      <td>10001</td>\n",
       "      <td>17725.586130</td>\n",
       "      <td>3</td>\n",
       "    </tr>\n",
       "    <tr>\n",
       "      <th>3</th>\n",
       "      <td>10001</td>\n",
       "      <td>17635.591890</td>\n",
       "      <td>4</td>\n",
       "    </tr>\n",
       "    <tr>\n",
       "      <th>4</th>\n",
       "      <td>10001</td>\n",
       "      <td>6032.801451</td>\n",
       "      <td>5</td>\n",
       "    </tr>\n",
       "    <tr>\n",
       "      <th>...</th>\n",
       "      <td>...</td>\n",
       "      <td>...</td>\n",
       "      <td>...</td>\n",
       "    </tr>\n",
       "    <tr>\n",
       "      <th>545851</th>\n",
       "      <td>15686</td>\n",
       "      <td>19431.499680</td>\n",
       "      <td>92</td>\n",
       "    </tr>\n",
       "    <tr>\n",
       "      <th>545852</th>\n",
       "      <td>15686</td>\n",
       "      <td>16265.331380</td>\n",
       "      <td>93</td>\n",
       "    </tr>\n",
       "    <tr>\n",
       "      <th>545853</th>\n",
       "      <td>15686</td>\n",
       "      <td>48271.650850</td>\n",
       "      <td>94</td>\n",
       "    </tr>\n",
       "    <tr>\n",
       "      <th>545854</th>\n",
       "      <td>15686</td>\n",
       "      <td>18825.206440</td>\n",
       "      <td>95</td>\n",
       "    </tr>\n",
       "    <tr>\n",
       "      <th>545855</th>\n",
       "      <td>15686</td>\n",
       "      <td>17836.113110</td>\n",
       "      <td>96</td>\n",
       "    </tr>\n",
       "  </tbody>\n",
       "</table>\n",
       "<p>545856 rows × 3 columns</p>\n",
       "</div>"
      ],
      "text/plain": [
       "           id  replicated weights  No. brr weight\n",
       "0       10001        16555.311270               1\n",
       "1       10001         5938.014320               2\n",
       "2       10001        17725.586130               3\n",
       "3       10001        17635.591890               4\n",
       "4       10001         6032.801451               5\n",
       "...       ...                 ...             ...\n",
       "545851  15686        19431.499680              92\n",
       "545852  15686        16265.331380              93\n",
       "545853  15686        48271.650850              94\n",
       "545854  15686        18825.206440              95\n",
       "545855  15686        17836.113110              96\n",
       "\n",
       "[545856 rows x 3 columns]"
      ]
     },
     "execution_count": 27,
     "metadata": {},
     "output_type": "execute_result"
    }
   ],
   "source": [
    "brr_weight2015 = df_2015[brr_weight2015_list]\n",
    "brr_weight2015_long = brr_weight2015.set_index(['doeid'])\n",
    "brr_weight2015_long.columns = [len(weight_number2015_list)*['2015_rep_weights'], 1*weight_number2015_list]\n",
    "brr_weight2015_long.columns.names = (None, 'brr_weight_number')\n",
    "brr_weight2015_long = brr_weight2015_long.stack()\n",
    "brr_weight2015_long.reset_index(inplace=True)\n",
    "brr_weight2015_long = brr_weight2015_long[['doeid', '2015_rep_weights', 'brr_weight_number']]\n",
    "new_col = ['id', 'replicated weights','No. brr weight']\n",
    "brr_weight2015_long.columns = new_col\n",
    "## display datasets containing just the unique case ids and the replicate weights of year 2015\n",
    "brr_weight2015_long"
   ]
  },
  {
   "cell_type": "markdown",
   "metadata": {},
   "source": [
    "# Question 2 - Construct and report the estimates [45 points]"
   ]
  },
  {
   "cell_type": "markdown",
   "metadata": {},
   "source": [
    "## part a)"
   ]
  },
  {
   "cell_type": "code",
   "execution_count": 28,
   "metadata": {},
   "outputs": [],
   "source": [
    "## From recs data\n",
    "R_2009 = 244\n",
    "R_2015 = 96\n",
    "## epsilon is Fay coefficient, We set it as 0.5\n",
    "epsilon = 0.5\n",
    "## alpha is confidence level\n",
    "## We want to get 95% confidence interval, so we set it as 1.96\n",
    "alpha = 1.96"
   ]
  },
  {
   "cell_type": "markdown",
   "metadata": {},
   "source": [
    "Estimate the average number of heating and cooling degree days for residences in each Census region for both 2009 and 2015. You should construct both point estimates (using the weights) and 95% confidece intervals (using standard errors estiamted with the repliacte weights). Report your results in a nicely formatted table.\n",
    "\n",
    "For this question, you should use pandas DataFrame methods wherever possible. Do not use a module specifically supporting survey weighting."
   ]
  },
  {
   "cell_type": "markdown",
   "metadata": {},
   "source": [
    "### First, we deal with year 2009 data:\n",
    "1) In this part we will get the average number of heating and cooling degree days for residences in each Census region for 2009. \n",
    "\n",
    "2) Then we will construct both point estimates (using the weights) and 95% confidece intervals and store them in DataFrame `merged_2009` .\n",
    "\n",
    "3) At last we report the results in a nicely formatted table."
   ]
  },
  {
   "cell_type": "code",
   "execution_count": 29,
   "metadata": {},
   "outputs": [
    {
     "name": "stderr",
     "output_type": "stream",
     "text": [
      "/Users/ShuyanLi/anaconda3/lib/python3.7/site-packages/ipykernel_launcher.py:6: SettingWithCopyWarning: \n",
      "A value is trying to be set on a copy of a slice from a DataFrame.\n",
      "Try using .loc[row_indexer,col_indexer] = value instead\n",
      "\n",
      "See the caveats in the documentation: https://pandas.pydata.org/pandas-docs/stable/user_guide/indexing.html#returning-a-view-versus-a-copy\n",
      "  \n",
      "/Users/ShuyanLi/anaconda3/lib/python3.7/site-packages/ipykernel_launcher.py:7: SettingWithCopyWarning: \n",
      "A value is trying to be set on a copy of a slice from a DataFrame.\n",
      "Try using .loc[row_indexer,col_indexer] = value instead\n",
      "\n",
      "See the caveats in the documentation: https://pandas.pydata.org/pandas-docs/stable/user_guide/indexing.html#returning-a-view-versus-a-copy\n",
      "  import sys\n"
     ]
    }
   ],
   "source": [
    "## import df_2009_new including variables: doeid, regionc, hdd65, cdd65, nweight\n",
    "## df_2009_new is created in Question1 (a)\n",
    "df_2009_nwt = df_2009_new\n",
    "\n",
    "## We multiple every hdd and cdd with its nweight\n",
    "df_2009_nwt['nwt_hdd65'] = df_2009_nwt['hdd65'] * df_2009_nwt['nweight']\n",
    "df_2009_nwt['nwt_cdd65'] = df_2009_nwt['cdd65'] * df_2009_nwt['nweight']"
   ]
  },
  {
   "cell_type": "code",
   "execution_count": 30,
   "metadata": {},
   "outputs": [],
   "source": [
    "## calculate year 2009's theta hat after grouped by 'regionc'\n",
    "grouped_2009 = df_2009_nwt.groupby('regionc').sum().reset_index()\n",
    "\n",
    "## calculate average number of heating and cooling degree days in each Census region\n",
    "grouped_2009['avg_hdd'] = (grouped_2009['nwt_hdd65']/grouped_2009['nweight']).round(2)\n",
    "grouped_2009['avg_cdd'] = (grouped_2009['nwt_cdd65']/grouped_2009['nweight']).round(2)\n",
    "\n",
    "## output the average number of heating and cooling degree days in each Census region\n",
    "#grouped_2009[['regionc', 'avg_hdd', 'avg_cdd']]"
   ]
  },
  {
   "cell_type": "markdown",
   "metadata": {},
   "source": [
    "For 2009 HDD $\\hat\\theta_R$:"
   ]
  },
  {
   "cell_type": "code",
   "execution_count": 53,
   "metadata": {},
   "outputs": [
    {
     "name": "stdout",
     "output_type": "stream",
     "text": [
      "   brr_weight_1  brr_weight_2  brr_weight_3  brr_weight_4  brr_weight_5  \\\n",
      "0    -11.239966     16.466949     21.789991     -9.074005     -3.752657   \n",
      "1     29.991310     16.578715     36.472760     10.155245     -7.632629   \n",
      "2     12.601697      3.741749    -17.508847     42.219030    -23.242017   \n",
      "3      8.172167     57.874971     48.873929     -1.488381    -54.462942   \n",
      "\n",
      "   brr_weight_6  brr_weight_7  brr_weight_8  brr_weight_9  brr_weight_10  ...  \\\n",
      "0     59.956749     -7.549477      0.893957     16.507143       7.272442  ...   \n",
      "1      8.888970    -30.757683     21.713298      8.010423     -17.206496  ...   \n",
      "2     -7.672101      3.341753     28.069685     11.867807      -5.675680  ...   \n",
      "3     56.864818    -29.791579     -5.450078     19.228992     -42.472931  ...   \n",
      "\n",
      "   brr_weight_235  brr_weight_236  brr_weight_237  brr_weight_238  \\\n",
      "0       -4.447925      -15.227648       10.869406      -25.240528   \n",
      "1      -16.785642       -0.579930       27.547095       20.808932   \n",
      "2       10.492620       27.924970       19.567014        9.737560   \n",
      "3      -24.935880      -30.715884      -25.585174       10.659716   \n",
      "\n",
      "   brr_weight_239  brr_weight_240  brr_weight_241  brr_weight_242  \\\n",
      "0      -47.577275        1.018421       25.864205      -18.234902   \n",
      "1      -24.894046        2.399670        5.089631       37.562601   \n",
      "2       12.147714       42.976567       17.795041      -22.574333   \n",
      "3       10.710844      -25.451458       59.820397      -30.057643   \n",
      "\n",
      "   brr_weight_243  brr_weight_244  \n",
      "0       12.086168       -2.631461  \n",
      "1        3.705452        7.410303  \n",
      "2       -1.625678      -32.917701  \n",
      "3       41.448603       34.798822  \n",
      "\n",
      "[4 rows x 244 columns]\n",
      "   brr_weight_1  brr_weight_2  brr_weight_3  brr_weight_4  brr_weight_5  \\\n",
      "0    126.336843    271.160406    474.803706     82.337566     14.082436   \n",
      "1    899.478671    274.853790   1330.262222    103.128992     58.257023   \n",
      "2    158.802771     14.000689    306.559729   1782.446456    540.191344   \n",
      "3     66.784313   3349.512246   2388.660964      2.215279   2966.212075   \n",
      "\n",
      "   brr_weight_6  brr_weight_7  brr_weight_8  brr_weight_9  brr_weight_10  ...  \\\n",
      "0   3594.811745     56.994602      0.799158    272.485777      52.888419  ...   \n",
      "1     79.013796    946.035084    471.467320     64.166870     296.063489  ...   \n",
      "2     58.861138     11.167312    787.907205    140.844847      32.213346  ...   \n",
      "3   3233.607546    887.538175     29.703354    369.754143    1803.949910  ...   \n",
      "\n",
      "   brr_weight_236  brr_weight_237  brr_weight_238  brr_weight_239  \\\n",
      "0      231.881277      118.143981      637.084237     2263.597109   \n",
      "1        0.336318      758.842462      433.011659      619.713514   \n",
      "2      779.803931      382.868054       94.820076      147.566953   \n",
      "3      943.465546      654.601117      113.629535      114.722185   \n",
      "\n",
      "   brr_weight_240  brr_weight_241  brr_weight_242  brr_weight_243  \\\n",
      "0        1.037182      668.957113      332.511644      146.075452   \n",
      "1        5.758415       25.904347     1410.948991       13.730374   \n",
      "2     1846.985295      316.663501      509.600508        2.642830   \n",
      "3      647.776702     3578.479843      903.461903     1717.986726   \n",
      "\n",
      "   brr_weight_244        row_sum  \n",
      "0        6.924588  133162.147138  \n",
      "1       54.912598   75134.708801  \n",
      "2     1083.575068  104101.191241  \n",
      "3     1210.958019  443461.531135  \n",
      "\n",
      "[4 rows x 245 columns]\n"
     ]
    }
   ],
   "source": [
    "## substract year 2009's all brr_weight and put them into dataframe weight_2009\n",
    "weight_2009 = df_2009_weight.loc[:, \"brr_weight_1\":\"brr_weight_244\"]\n",
    "## generate a dataframe to store year 2009's brr_weight with their regionc\n",
    "weight_2009_region = pd.concat([df_2009_new['regionc'], weight_2009], axis=1)\n",
    "weight_2009_region = weight_2009_region.groupby('regionc').sum().reset_index()\n",
    "## exclude column 'regionc'\n",
    "weight_2009_region = weight_2009_region.loc[:, \"brr_weight_1\":\"brr_weight_244\"]\n",
    "## multiply the two dataframe, and get every brr_weight * hdd\n",
    "hdd_bw_product_2009 = weight_2009.multiply(df_2009_new['hdd65'].values, axis='rows')\n",
    "## Add column 'regionc' to hdd_bw_product_2009\n",
    "df_region_brr_2009 = pd.concat([df_2009_new[['regionc']], hdd_bw_product_2009], axis=1)\n",
    "## groupby 'regionc'\n",
    "df1 = df_region_brr_2009.groupby('regionc').sum()\n",
    "df2 = df1.reset_index()\n",
    "## subtract all brr_weighted data(thetaR_hat)\n",
    "df3 = df2.loc[:, \"brr_weight_1\":\"brr_weight_244\"]\n",
    "df4 = df3/weight_2009_region\n",
    "## thetaR_hat - hdd_theta_hat\n",
    "df5 = df4.sub(grouped_2009['avg_hdd'], axis=0)\n",
    "print(df5)\n",
    "df6 = df5**2\n",
    "\n",
    "df6['row_sum'] = df6.apply(lambda x: x.sum(), axis=1)\n",
    "print(df6)\n",
    "df6['hdd_region_sd'] = ((df6['row_sum']*(1/(R_2009*(1-epsilon)**2)))**(1/2)).round(2)\n",
    "df6['hdd_lwr'] = (grouped_2009['avg_hdd'] - alpha*df6['hdd_region_sd']).round(2)\n",
    "df6['hdd_upr'] = (grouped_2009['avg_hdd'] + alpha*df6['hdd_region_sd']).round(2)\n",
    "## generate a column to store CI\n",
    "df6['95% CI of heating days'] =\"(\" + (df6['hdd_lwr']).astype(str) +\",\"+ (df6['hdd_upr']).astype(str) + \")\"\n",
    "## df6 stores hdd_sd\n",
    "hdd_region_CI = pd.concat([grouped_2009[['avg_hdd']], df6[['95% CI of heating days', 'hdd_region_sd']]], axis=1)"
   ]
  },
  {
   "cell_type": "markdown",
   "metadata": {},
   "source": [
    "The same for 2009 CDD $\\hat\\theta_R$:"
   ]
  },
  {
   "cell_type": "code",
   "execution_count": 32,
   "metadata": {},
   "outputs": [],
   "source": [
    "## substract year 2009's all brr_weight and put them into dataframe weight_2009\n",
    "weight_2009 = df_2009_weight.loc[:, \"brr_weight_1\":\"brr_weight_244\"]\n",
    "## generate a dataframe to store year 2009's brr_weight with their regionc\n",
    "weight_2009_region = pd.concat([df_2009_new['regionc'], weight_2009], axis=1)\n",
    "weight_2009_region = weight_2009_region.groupby('regionc').sum().reset_index()\n",
    "## exclude column 'regionc'\n",
    "weight_2009_region = weight_2009_region.loc[:, \"brr_weight_1\":\"brr_weight_244\"]\n",
    "## multiply the two dataframe, and get every brr_weight * cdd\n",
    "cdd_bw_product_2009 = weight_2009.multiply(df_2009_new['cdd65'].values, axis='rows')\n",
    "## Add column 'regionc' to cdd_bw_product_2009\n",
    "df_region_brr_2009 = pd.concat([df_2009_new[['regionc']], cdd_bw_product_2009], axis=1)\n",
    "## groupby 'regionc'\n",
    "df1 = df_region_brr_2009.groupby('regionc').sum()\n",
    "df2 = df1.reset_index()\n",
    "## subtract all brr_weighted data(thetaR_hat)\n",
    "df3 = df2.loc[:, \"brr_weight_1\":\"brr_weight_244\"]\n",
    "df4 = df3/weight_2009_region\n",
    "## thetaR_hat - cdd_theta_hat\n",
    "df5 = df4.sub(grouped_2009['avg_cdd'], axis=0)\n",
    "df6 = df5**2\n",
    "df6['row_sum'] = df6.apply(lambda x: x.sum(), axis=1)\n",
    "df6['cdd_region_sd'] = ((df6['row_sum']*(1/(R_2009*(1-epsilon)**2)))**(1/2)).round(2)\n",
    "df6['cdd_lwr'] = (grouped_2009['avg_cdd'] - alpha*df6['cdd_region_sd']).round(2)\n",
    "df6['cdd_upr'] = (grouped_2009['avg_cdd'] + alpha*df6['cdd_region_sd']).round(2)\n",
    "## generate a column to store CI\n",
    "df6['95% CI of cooling days'] =\"(\" + (df6['cdd_lwr']).astype(str) +\",\"+ (df6['cdd_upr']).astype(str) + \")\"\n",
    "## df6 stores cdd_sd\n",
    "cdd_region_CI = pd.concat([grouped_2009[['avg_cdd']], df6[['95% CI of cooling days', 'cdd_region_sd']]], axis=1)"
   ]
  },
  {
   "cell_type": "code",
   "execution_count": 33,
   "metadata": {},
   "outputs": [],
   "source": [
    "## merge 'regionc', year 2009's hdd and cdd\n",
    "merged_2009 = pd.concat([grouped_2009[['regionc']], hdd_region_CI, cdd_region_CI], axis=1)\n",
    "newname_merged_2009 = merged_2009[['regionc', 'avg_hdd', '95% CI of heating days', 'avg_cdd', '95% CI of cooling days']]\n",
    "new_col_2009 = ['regionc', 'average number of heating degree days', '95% CI of heating days', \n",
    "                'average number of cooling degree days', '95% CI of cooling days']\n",
    "newname_merged_2009.columns = new_col_2009"
   ]
  },
  {
   "cell_type": "code",
   "execution_count": 49,
   "metadata": {},
   "outputs": [
    {
     "data": {
      "text/html": [
       "<table border=\"1\" class=\"dataframe\">\n",
       "\n",
       "<b> Table 1.</b> <em> Esitimate average number of heating and cooling degree days in 2009</em>\n",
       "\n",
       "  <thead>\n",
       "    <tr style=\"text-align: right;\">\n",
       "      <th>regionc</th>\n",
       "      <th>average number of heating degree days</th>\n",
       "      <th>95% CI of heating days</th>\n",
       "      <th>average number of cooling degree days</th>\n",
       "      <th>95% CI of cooling days</th>\n",
       "    </tr>\n",
       "  </thead>\n",
       "  <tbody>\n",
       "    <tr>\n",
       "      <td>Midwest Census Region</td>\n",
       "      <td>6325.34</td>\n",
       "      <td>(6233.77,6416.91)</td>\n",
       "      <td>660.89</td>\n",
       "      <td>(632.0,689.78)</td>\n",
       "    </tr>\n",
       "    <tr>\n",
       "      <td>Northeast Census Region</td>\n",
       "      <td>5700.99</td>\n",
       "      <td>(5632.19,5769.79)</td>\n",
       "      <td>680.72</td>\n",
       "      <td>(660.12,701.32)</td>\n",
       "    </tr>\n",
       "    <tr>\n",
       "      <td>South Census Region</td>\n",
       "      <td>2696.67</td>\n",
       "      <td>(2615.7,2777.64)</td>\n",
       "      <td>2207.73</td>\n",
       "      <td>(2150.65,2264.81)</td>\n",
       "    </tr>\n",
       "    <tr>\n",
       "      <td>West Census Region</td>\n",
       "      <td>3259.64</td>\n",
       "      <td>(3092.53,3426.75)</td>\n",
       "      <td>1328.64</td>\n",
       "      <td>(1270.23,1387.05)</td>\n",
       "    </tr>\n",
       "  </tbody>\n",
       "</table>"
      ],
      "text/plain": [
       "<IPython.core.display.HTML object>"
      ]
     },
     "metadata": {},
     "output_type": "display_data"
    }
   ],
   "source": [
    "# construct a table, include a caption: ---------------------------------------\n",
    "cap = \"\"\"\n",
    "<b> Table 1.</b> <em> Esitimate average number of heating and cooling degree days in 2009</em>\n",
    "\"\"\"\n",
    "t1 = newname_merged_2009.to_html(index=False)\n",
    "t1 = t1.rsplit('\\n')\n",
    "t1.insert(1, cap)\n",
    "tab1 = ''\n",
    "for i, line in enumerate(t1):\n",
    "    tab1 += line\n",
    "    if i < (len(t1) - 1):\n",
    "        tab1 += '\\n'\n",
    "\n",
    "display(HTML(tab1))"
   ]
  },
  {
   "cell_type": "markdown",
   "metadata": {},
   "source": [
    "### Second, we deal with year 2015 data:\n",
    "1) In this part we will get the average number of heating and cooling degree days for residences in each Census region for 2015. \n",
    "\n",
    "2) Then we will construct both point estimates (using the weights) and 95% confidece intervals and store them in DataFrame `merged_2015` .\n",
    "\n",
    "3) At last we report the results in a nicely formatted table."
   ]
  },
  {
   "cell_type": "code",
   "execution_count": 35,
   "metadata": {},
   "outputs": [
    {
     "name": "stderr",
     "output_type": "stream",
     "text": [
      "/Users/ShuyanLi/anaconda3/lib/python3.7/site-packages/ipykernel_launcher.py:6: SettingWithCopyWarning: \n",
      "A value is trying to be set on a copy of a slice from a DataFrame.\n",
      "Try using .loc[row_indexer,col_indexer] = value instead\n",
      "\n",
      "See the caveats in the documentation: https://pandas.pydata.org/pandas-docs/stable/user_guide/indexing.html#returning-a-view-versus-a-copy\n",
      "  \n",
      "/Users/ShuyanLi/anaconda3/lib/python3.7/site-packages/ipykernel_launcher.py:7: SettingWithCopyWarning: \n",
      "A value is trying to be set on a copy of a slice from a DataFrame.\n",
      "Try using .loc[row_indexer,col_indexer] = value instead\n",
      "\n",
      "See the caveats in the documentation: https://pandas.pydata.org/pandas-docs/stable/user_guide/indexing.html#returning-a-view-versus-a-copy\n",
      "  import sys\n"
     ]
    }
   ],
   "source": [
    "## import df_2015_new including variables: doeid, regionc, hdd65, cdd65, nweight\n",
    "## df_2015_new is created in Question1 (a)\n",
    "df_2015_nwt = df_2015_new\n",
    "\n",
    "## We multiple every hdd and cdd with its nweight\n",
    "df_2015_nwt['nwt_hdd65'] = df_2015_nwt['hdd65'] * df_2015_nwt['nweight']\n",
    "df_2015_nwt['nwt_cdd65'] = df_2015_nwt['cdd65'] * df_2015_nwt['nweight']"
   ]
  },
  {
   "cell_type": "code",
   "execution_count": 36,
   "metadata": {},
   "outputs": [],
   "source": [
    "## calculate year 2015's theta hat after grouped by 'regionc'\n",
    "grouped_2015 = df_2015_nwt.groupby('regionc').sum().reset_index()\n",
    "\n",
    "## calculate average number of heating and cooling degree days in each Census region\n",
    "grouped_2015['avg_hdd'] = (grouped_2015['nwt_hdd65']/grouped_2015['nweight']).round(2)\n",
    "grouped_2015['avg_cdd'] = (grouped_2015['nwt_cdd65']/grouped_2015['nweight']).round(2)\n",
    "\n",
    "## output the average number of heating and cooling degree days in each Census region\n",
    "#grouped_2015[['regionc', 'avg_hdd', 'avg_cdd']]"
   ]
  },
  {
   "cell_type": "markdown",
   "metadata": {},
   "source": [
    "For 2015 HDD $\\hat\\theta_R$:"
   ]
  },
  {
   "cell_type": "code",
   "execution_count": 37,
   "metadata": {},
   "outputs": [],
   "source": [
    "## substract year 2015's all brr_weight and put them into dataframe weight_2015\n",
    "weight_2015 = df_2015.loc[:, \"brrwt1\":\"brrwt96\"]\n",
    "## generate a dataframe to store year 2015's brr_weight with their regionc\n",
    "weight_2015_region = pd.concat([df_2015_new['regionc'], weight_2015], axis=1)\n",
    "weight_2015_region = weight_2015_region.groupby('regionc').sum().reset_index()\n",
    "## exclude column 'regionc'\n",
    "weight_2015_region = weight_2015_region.loc[:, \"brrwt1\":\"brrwt96\"]\n",
    "## Add column 'regionc' to hdd_bw_product_2015\n",
    "hdd_bw_product_2015 = weight_2015.multiply(df_2015_new['hdd65'].values, axis='rows')\n",
    "## Add column 'regionc' to hdd_bw_product_2015\n",
    "df_region_brr_2015 = pd.concat([df_2015_new[['regionc']], hdd_bw_product_2015], axis=1)\n",
    "## groupby 'regionc'\n",
    "df1 = df_region_brr_2015.groupby('regionc').sum()\n",
    "df2 = df1.reset_index()\n",
    "## subtract all brr_weighted data(thetaR_hat)\n",
    "df3 = df2.loc[:, \"brrwt1\":\"brrwt96\"]\n",
    "df4 = df3/weight_2015_region\n",
    "## thetaR_hat - hdd_theta_hat\n",
    "df5 = df4.sub(grouped_2015['avg_hdd'], axis=0)\n",
    "df6 = df5**2\n",
    "df6['row_sum'] = df6.apply(lambda x: x.sum(), axis=1)\n",
    "df6['hdd_region_sd'] = ((df6['row_sum']*(1/(R_2015*(1-epsilon)**2)))**(1/2)).round(2)\n",
    "df6['hdd_lwr'] = (grouped_2015['avg_hdd'] - alpha*df6['hdd_region_sd']).round(2)\n",
    "df6['hdd_upr'] = (grouped_2015['avg_hdd'] + alpha*df6['hdd_region_sd']).round(2)\n",
    "##generate a column to store CI\n",
    "df6['95% CI of heating days'] =\"(\" + (df6['hdd_lwr']).astype(str) +\",\"+ (df6['hdd_upr']).astype(str) + \")\"\n",
    "## df6 stores hdd_sd\n",
    "hdd_region_CI = pd.concat([grouped_2015[['avg_hdd']], df6[['95% CI of heating days', 'hdd_region_sd']]], axis=1)"
   ]
  },
  {
   "cell_type": "markdown",
   "metadata": {},
   "source": [
    "The same for 2015 CDD $\\hat\\theta_R$:"
   ]
  },
  {
   "cell_type": "code",
   "execution_count": 38,
   "metadata": {},
   "outputs": [],
   "source": [
    "## substract year 2015's all brr_weight and put them into dataframe weight_2015\n",
    "weight_2015 = df_2015.loc[:, \"brrwt1\":\"brrwt96\"]\n",
    "## generate a dataframe to store year 2015's brr_weight with their regionc\n",
    "weight_2015_region = pd.concat([df_2015_new['regionc'], weight_2015], axis=1)\n",
    "weight_2015_region = weight_2015_region.groupby('regionc').sum().reset_index()\n",
    "## exclude column 'regionc'\n",
    "weight_2015_region = weight_2015_region.loc[:, \"brrwt1\":\"brrwt96\"]\n",
    "## multiply the two dataframe, and get every brr_weight * cdd\n",
    "cdd_bw_product_2015 = weight_2015.multiply(df_2015_new['cdd65'].values, axis='rows')\n",
    "## Add column 'regionc' to cdd_bw_product_2015\n",
    "df_region_brr_2015 = pd.concat([df_2015_new[['regionc']], cdd_bw_product_2015], axis=1)\n",
    "## groupby 'regionc'\n",
    "df1 = df_region_brr_2015.groupby('regionc').sum()\n",
    "df2 = df1.reset_index()\n",
    "## subtract all brr_weighted data(thetaR_hat)\n",
    "df3 = df2.loc[:, \"brrwt1\":\"brrwt96\"]\n",
    "df4 = df3/weight_2015_region\n",
    "## thetaR_hat - hdd_theta_hat\n",
    "df5 = df4.sub(grouped_2015['avg_cdd'], axis=0)\n",
    "df6 = df5**2\n",
    "df6['row_sum'] = df6.apply(lambda x: x.sum(), axis=1)\n",
    "df6['cdd_region_sd'] = ((df6['row_sum']*(1/(R_2015*(1-epsilon)**2)))**(1/2)).round(2)\n",
    "df6['cdd_lwr'] = (grouped_2015['avg_cdd'] - alpha*df6['cdd_region_sd']).round(2)\n",
    "df6['cdd_upr'] = (grouped_2015['avg_cdd'] + alpha*df6['cdd_region_sd']).round(2)\n",
    "##generate a column to store CI\n",
    "df6['95% CI of cooling days'] =\"(\" + (df6['cdd_lwr']).astype(str) +\",\"+ (df6['cdd_upr']).astype(str) + \")\"\n",
    "## df6 stores hdd_sd\n",
    "cdd_region_CI = pd.concat([grouped_2015[['avg_cdd']], df6[['95% CI of cooling days', 'cdd_region_sd']]], axis=1)"
   ]
  },
  {
   "cell_type": "code",
   "execution_count": 39,
   "metadata": {},
   "outputs": [],
   "source": [
    "##合并地区和2015年的hdd和cdd\n",
    "merged_2015 = pd.concat([grouped_2015[['regionc']], hdd_region_CI, cdd_region_CI], axis=1)\n",
    "newname_merged_2015 = merged_2015[['regionc', 'avg_hdd', '95% CI of heating days', 'avg_cdd', '95% CI of cooling days']]\n",
    "new_col_2015 = ['regionc', 'average number of heating degree days', '95% CI of heating days', \n",
    "                'average number of cooling degree days', '95% CI of cooling days']\n",
    "newname_merged_2015.columns = new_col_2015"
   ]
  },
  {
   "cell_type": "code",
   "execution_count": 50,
   "metadata": {},
   "outputs": [
    {
     "data": {
      "text/html": [
       "<table border=\"1\" class=\"dataframe\">\n",
       "\n",
       "<b> Table 2.</b> <em> Estimate average number of heating and cooling degree days in 2015</em>\n",
       "\n",
       "  <thead>\n",
       "    <tr style=\"text-align: right;\">\n",
       "      <th>regionc</th>\n",
       "      <th>average number of heating degree days</th>\n",
       "      <th>95% CI of heating days</th>\n",
       "      <th>average number of cooling degree days</th>\n",
       "      <th>95% CI of cooling days</th>\n",
       "    </tr>\n",
       "  </thead>\n",
       "  <tbody>\n",
       "    <tr>\n",
       "      <td>Midwest Census Region</td>\n",
       "      <td>5785.49</td>\n",
       "      <td>(5634.79,5936.19)</td>\n",
       "      <td>956.07</td>\n",
       "      <td>(894.43,1017.71)</td>\n",
       "    </tr>\n",
       "    <tr>\n",
       "      <td>Northeast Census Region</td>\n",
       "      <td>5695.67</td>\n",
       "      <td>(5532.07,5859.27)</td>\n",
       "      <td>983.92</td>\n",
       "      <td>(918.91,1048.93)</td>\n",
       "    </tr>\n",
       "    <tr>\n",
       "      <td>South Census Region</td>\n",
       "      <td>2211.88</td>\n",
       "      <td>(2056.24,2367.52)</td>\n",
       "      <td>2639.85</td>\n",
       "      <td>(2524.7,2755.0)</td>\n",
       "    </tr>\n",
       "    <tr>\n",
       "      <td>West Census Region</td>\n",
       "      <td>2814.83</td>\n",
       "      <td>(2625.02,3004.64)</td>\n",
       "      <td>1576.77</td>\n",
       "      <td>(1377.05,1776.49)</td>\n",
       "    </tr>\n",
       "  </tbody>\n",
       "</table>"
      ],
      "text/plain": [
       "<IPython.core.display.HTML object>"
      ]
     },
     "metadata": {},
     "output_type": "display_data"
    }
   ],
   "source": [
    "# construct a table, include a caption: ---------------------------------------\n",
    "cap = \"\"\"\n",
    "<b> Table 2.</b> <em> Estimate average number of heating and cooling degree days in 2015</em>\n",
    "\"\"\"\n",
    "t2 = newname_merged_2015.to_html(index=False)\n",
    "t2 = t2.rsplit('\\n')\n",
    "t2.insert(1, cap)\n",
    "tab2 = ''\n",
    "for i, line in enumerate(t2):\n",
    "    tab2 += line\n",
    "    if i < (len(t2) - 1):\n",
    "        tab2 += '\\n'\n",
    "\n",
    "display(HTML(tab2))"
   ]
  },
  {
   "cell_type": "markdown",
   "metadata": {},
   "source": [
    "## part b)"
   ]
  },
  {
   "cell_type": "markdown",
   "metadata": {},
   "source": [
    "Using the estimates and standard errors from part a, estimate the change in heating and cooling degree days between 2009 and 2015 for each Census region. In constructing interval estimates, use the facts that the estimators for each year are independent and that,\n",
    "$$var(\\hat\\theta_0, \\hat\\theta_1)=var(\\hat\\theta_0)+var(\\hat\\theta_1)$$\n",
    "when the estimators $\\hat\\theta_0$ and $\\hat\\theta_1$ are independent."
   ]
  },
  {
   "cell_type": "code",
   "execution_count": 41,
   "metadata": {},
   "outputs": [],
   "source": [
    "change_data = pd.DataFrame()\n",
    "## calculate delta_hdd and delta_cdd\n",
    "change_data['change of heating days'] = merged_2015['avg_hdd'] - merged_2009['avg_hdd']\n",
    "change_data['change of cooling days'] = merged_2015['avg_cdd'] - merged_2009['avg_cdd']\n",
    "## calculate delta_hdd and delta_cdd standard deriviation\n",
    "change_data['se_delta_hdd'] = ((merged_2015['hdd_region_sd']**2 + merged_2009['hdd_region_sd']**2)**(1/2)).round(2)\n",
    "change_data['se_delta_cdd'] = ((merged_2015['cdd_region_sd']**2 + merged_2009['cdd_region_sd']**2)**(1/2)).round(2)\n",
    "## calculate delta_hdd CI\n",
    "change_data['delta_hdd_lwr'] = (change_data['change of heating days'] - alpha*change_data['se_delta_hdd']).round(2)\n",
    "change_data['delta_hdd_upr'] = (change_data['change of heating days'] + alpha*change_data['se_delta_hdd']).round(2)\n",
    "change_data['95% CI of change of heating days'] = \"(\" + (change_data['delta_hdd_lwr']).astype(str) + \",\" + (change_data['delta_hdd_upr']).astype(str) + \")\"\n",
    "## calculate delta_cdd CI\n",
    "change_data['delta_cdd_lwr'] = (change_data['change of cooling days'] - alpha*change_data['se_delta_cdd']).round(2)\n",
    "change_data['delta_cdd_upr'] = (change_data['change of cooling days'] + alpha*change_data['se_delta_cdd']).round(2)\n",
    "change_data['95% CI of change of cooling days'] = \"(\" + (change_data['delta_cdd_lwr']).astype(str) + \",\" + (change_data['delta_cdd_upr']).astype(str) + \")\"\n",
    "## Subtract what we are interested in change_data DataFrame\n",
    "change_result = pd.concat([merged_2015['regionc'],\n",
    "                           change_data[['change of heating days', '95% CI of change of heating days', \n",
    "                                        'change of cooling days', '95% CI of change of cooling days']]], axis=1)"
   ]
  },
  {
   "cell_type": "code",
   "execution_count": 42,
   "metadata": {},
   "outputs": [
    {
     "data": {
      "text/html": [
       "<table border=\"1\" class=\"dataframe\">\n",
       "\n",
       "<b> Table 3.</b> <em>The change in heating and cooling degree days between 2009 and 2015 for each Census region</em>\n",
       "\n",
       "  <thead>\n",
       "    <tr style=\"text-align: right;\">\n",
       "      <th>regionc</th>\n",
       "      <th>change of heating days</th>\n",
       "      <th>95% CI of change of heating days</th>\n",
       "      <th>change of cooling days</th>\n",
       "      <th>95% CI of change of cooling days</th>\n",
       "    </tr>\n",
       "  </thead>\n",
       "  <tbody>\n",
       "    <tr>\n",
       "      <td>Midwest Census Region</td>\n",
       "      <td>-539.85</td>\n",
       "      <td>(-716.19,-363.51)</td>\n",
       "      <td>295.18</td>\n",
       "      <td>(227.11,363.25)</td>\n",
       "    </tr>\n",
       "    <tr>\n",
       "      <td>Northeast Census Region</td>\n",
       "      <td>-5.32</td>\n",
       "      <td>(-182.8,172.16)</td>\n",
       "      <td>303.20</td>\n",
       "      <td>(234.99,371.41)</td>\n",
       "    </tr>\n",
       "    <tr>\n",
       "      <td>South Census Region</td>\n",
       "      <td>-484.79</td>\n",
       "      <td>(-660.23,-309.35)</td>\n",
       "      <td>432.12</td>\n",
       "      <td>(303.6,560.64)</td>\n",
       "    </tr>\n",
       "    <tr>\n",
       "      <td>West Census Region</td>\n",
       "      <td>-444.81</td>\n",
       "      <td>(-697.69,-191.93)</td>\n",
       "      <td>248.13</td>\n",
       "      <td>(40.04,456.22)</td>\n",
       "    </tr>\n",
       "  </tbody>\n",
       "</table>"
      ],
      "text/plain": [
       "<IPython.core.display.HTML object>"
      ]
     },
     "metadata": {},
     "output_type": "display_data"
    }
   ],
   "source": [
    "# construct a table, include a caption: ---------------------------------------\n",
    "cap = \"\"\"\n",
    "<b> Table 3.</b> <em>The change in heating and cooling degree days between 2009 and 2015 for each Census region</em>\n",
    "\"\"\"\n",
    "t3 = change_result.to_html(index=False)\n",
    "t3 = t3.rsplit('\\n')\n",
    "t3.insert(1, cap)\n",
    "tab3 = ''\n",
    "for i, line in enumerate(t3):\n",
    "    tab3 += line\n",
    "    if i < (len(t3) - 1):\n",
    "        tab3 += '\\n'\n",
    "\n",
    "display(HTML(tab3))"
   ]
  },
  {
   "cell_type": "markdown",
   "metadata": {},
   "source": [
    "# Question 3 - [20 points]"
   ]
  },
  {
   "cell_type": "markdown",
   "metadata": {},
   "source": [
    "Use pandas and/or matplotlib to create visualizations for the results reported as tables in parts a and b of question 2. As with the tables, your figures should be “polished” and professional in appearance, with well-chosen axis and tick labels, English rather than code_speak, etc. Use an adjacent markdown cell to write a caption for each figure."
   ]
  },
  {
   "cell_type": "code",
   "execution_count": 43,
   "metadata": {},
   "outputs": [],
   "source": [
    "## import matplotlib\n",
    "import matplotlib.pyplot as plt\n",
    "import matplotlib as mpl"
   ]
  },
  {
   "cell_type": "code",
   "execution_count": 44,
   "metadata": {},
   "outputs": [
    {
     "data": {
      "text/plain": [
       "pandas.core.series.Series"
      ]
     },
     "execution_count": 44,
     "metadata": {},
     "output_type": "execute_result"
    }
   ],
   "source": [
    "region_series = merged_2009['regionc'].astype(str)\n",
    "type(region_series)"
   ]
  },
  {
   "cell_type": "code",
   "execution_count": 45,
   "metadata": {},
   "outputs": [],
   "source": [
    "label_array = np.transpose(merged_2009.values)[0]\n",
    "labels = list(label_array)"
   ]
  },
  {
   "cell_type": "markdown",
   "metadata": {},
   "source": [
    "Draw a bar and errorbar plot about average heating degree days comparing 2009 and 2015."
   ]
  },
  {
   "cell_type": "code",
   "execution_count": 46,
   "metadata": {},
   "outputs": [
    {
     "data": {
      "image/png": "[encoded data removed]",
      "text/plain": [
       "<Figure size 720x576 with 1 Axes>"
      ]
     },
     "metadata": {
      "needs_background": "light"
     },
     "output_type": "display_data"
    }
   ],
   "source": [
    "width = 0.4\n",
    "fig1, ax1 = plt.subplots(nrows=1, ncols=1, sharex=True, sharey=True, figsize=(10,8))\n",
    "fig1.tight_layout()\n",
    "_ = plt.bar(x = np.arange(len(labels)) - width / 2, \n",
    "            height = merged_2009['avg_hdd'], \n",
    "            color = 'lightblue',\n",
    "            label ='year 2009',\n",
    "            width = width, \n",
    "            align = 'center',\n",
    "            yerr = merged_2009['hdd_region_sd'],\n",
    "            ecolor = 'brown',\n",
    "            capsize=10\n",
    "           )\n",
    "## show the label\n",
    "_ = plt.legend(loc=1)\n",
    "_ = plt.bar(x = np.arange(len(labels)) + width / 2, \n",
    "            height = merged_2015['avg_hdd'], \n",
    "            color = 'pink',\n",
    "            label = 'year 2015',\n",
    "            width = width, \n",
    "            align = 'center',\n",
    "            yerr = merged_2015['hdd_region_sd'],\n",
    "            ecolor = 'brown', \n",
    "            capsize=10\n",
    "            )\n",
    "## show the label\n",
    "_ = plt.legend(loc=1)\n",
    "_ = plt.xticks(np.arange(len(labels)), labels)\n",
    "_ = ax1.set_xlabel('regionc')\n",
    "_ = plt.ylabel('Number of average heating degree days')\n",
    "_ = plt.title('Average heating days in 2009 and 2015')"
   ]
  },
  {
   "cell_type": "markdown",
   "metadata": {},
   "source": [
    "We can see that the number of average heating degree days are decreasing."
   ]
  },
  {
   "cell_type": "markdown",
   "metadata": {},
   "source": [
    "Draw a bar and errorbar plot about average cooling degree days comparing 2009 and 2015."
   ]
  },
  {
   "cell_type": "code",
   "execution_count": 47,
   "metadata": {},
   "outputs": [
    {
     "data": {
      "image/png": "[encoded data removed]",
      "text/plain": [
       "<Figure size 720x576 with 1 Axes>"
      ]
     },
     "metadata": {
      "needs_background": "light"
     },
     "output_type": "display_data"
    }
   ],
   "source": [
    "width = 0.4\n",
    "fig1, ax1 = plt.subplots(nrows=1, ncols=1, sharex=True, sharey=True, figsize=(10,8))\n",
    "fig1.tight_layout()\n",
    "_ = plt.bar(x = np.arange(len(labels)) - width / 2, \n",
    "            height = merged_2009['avg_cdd'], \n",
    "            color = 'tan',\n",
    "            label ='year 2009',\n",
    "            width = width, \n",
    "            align = 'center',\n",
    "            yerr = merged_2009['cdd_region_sd'],\n",
    "            ecolor = 'brown',\n",
    "            capsize=10\n",
    "           )\n",
    "## show the label\n",
    "_ = plt.legend(loc=1)\n",
    "_ = plt.bar(x = np.arange(len(labels)) + width / 2, \n",
    "            height = merged_2015['avg_cdd'], \n",
    "            color = 'green',\n",
    "            label = 'year 2015',\n",
    "            width = width, \n",
    "            align = 'center',\n",
    "            yerr = merged_2015['cdd_region_sd'],\n",
    "            ecolor = 'brown', \n",
    "            capsize=10\n",
    "            )\n",
    "## show the label\n",
    "_ = plt.legend(loc=1)\n",
    "_ = plt.xticks(np.arange(len(labels)), labels)\n",
    "_ = ax1.set_xlabel('regionc')\n",
    "_ = plt.ylabel('Number of average cooling degree days')\n",
    "_ = plt.title('Average cooling days in 2009 and 2015')"
   ]
  },
  {
   "cell_type": "markdown",
   "metadata": {},
   "source": [
    "We can see that the number of average cooling degree days are rising."
   ]
  },
  {
   "cell_type": "code",
   "execution_count": 48,
   "metadata": {},
   "outputs": [
    {
     "data": {
      "image/png": "[encoded data removed]",
      "text/plain": [
       "<Figure size 720x576 with 1 Axes>"
      ]
     },
     "metadata": {
      "needs_background": "light"
     },
     "output_type": "display_data"
    }
   ],
   "source": [
    "width = 0.4\n",
    "fig1, ax1 = plt.subplots(nrows=1, ncols=1, sharex=True, sharey=True, figsize=(10,8))\n",
    "fig1.tight_layout()\n",
    "_ = plt.bar(x = np.arange(len(labels)) - width / 2, \n",
    "            height = change_data['change of heating days'], \n",
    "            color = 'red',\n",
    "            label ='change of heating days',\n",
    "            width = width, \n",
    "            align = 'center',\n",
    "            yerr = change_data['se_delta_hdd'],\n",
    "            ecolor = 'black',\n",
    "            capsize=10\n",
    "           )\n",
    "## show the label\n",
    "_ = plt.legend(loc=1)\n",
    "_ = plt.bar(x = np.arange(len(labels)) + width / 2, \n",
    "            height = change_data['change of cooling days'], \n",
    "            color = 'blue',\n",
    "            label = 'change of cooling days',\n",
    "            width = width, \n",
    "            align = 'center',\n",
    "            yerr = change_data['se_delta_cdd'],\n",
    "            ecolor = 'black', \n",
    "            capsize=10\n",
    "            )\n",
    "## show the label\n",
    "_ = plt.legend(loc=1)\n",
    "_ = plt.xticks(np.arange(len(labels)), labels)\n",
    "_ = ax1.set_xlabel('regionc')\n",
    "_ = plt.ylabel('Change of average heating and cooling degree days')\n",
    "_ = plt.title('Change of average heating and cooling days from 2009 to 2015')"
   ]
  },
  {
   "cell_type": "markdown",
   "metadata": {},
   "source": [
    "Growing number of average cooling degree days and decreasing number of average heating degree days illustrate the global warming effect!"
   ]
  }
 ],
 "metadata": {
  "jupytext": {
   "encoding": "# -*- coding: utf-8 -*-",
   "formats": "ipynb,py:light"
  },
  "kernelspec": {
   "display_name": "Python 3",
   "language": "python",
   "name": "python3"
  },
  "language_info": {
   "codemirror_mode": {
    "name": "ipython",
    "version": 3
   },
   "file_extension": ".py",
   "mimetype": "text/x-python",
   "name": "python",
   "nbconvert_exporter": "python",
   "pygments_lexer": "ipython3",
   "version": "3.7.3"
  }
 },
 "nbformat": 4,
 "nbformat_minor": 2
}
