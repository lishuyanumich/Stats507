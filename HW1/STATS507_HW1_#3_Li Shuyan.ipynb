{
 "cells": [
  {
   "cell_type": "markdown",
   "metadata": {},
   "source": [
    "# Question 3 - Statistics 101 [40]"
   ]
  },
  {
   "cell_type": "markdown",
   "metadata": {},
   "source": [
    "In this question you will write functions to compute statistics providing point and interval estimates for common population parameters based on data. Parts a and below each ask you to write a function; each of those functions should default to returning a string of the form,\n",
    "$$\\hat{\\theta}\\textrm{ }[XX\\% CI: (\\hat{\\theta}_L, \\hat{\\theta}_U)$$"
   ]
  },
  {
   "cell_type": "markdown",
   "metadata": {},
   "source": [
    "The format of this string should also be configurable using an input parameter. Define the function to return a dictionary with keys `est`, `lwr`, `upr`, and `level` when the function is called with the parameter controlling the format of the input string set to `None`."
   ]
  },
  {
   "cell_type": "markdown",
   "metadata": {},
   "source": [
    "Your functions should accept the data as a 1d Numpy array or any object coercable to such an array using `np.array()` and raise an informative exception if not."
   ]
  },
  {
   "cell_type": "markdown",
   "metadata": {},
   "source": [
    "In this question you may use any function from Numpy, but may only use Scipy for the distribution functions found in the `stats` library. Your functions should not rely on any other modules."
   ]
  },
  {
   "cell_type": "markdown",
   "metadata": {},
   "source": [
    "**a.** The standard point and interval estimate for the populaiton mean based on Normal theory takes the form $$\\overline{x} \\pm z \\times se(x)$$ where $\\bar x$ is the mean, se(x) is the standard error, and z is a Gaussian multiplier that depends on the desired confidence level. \n",
    "Write a function to return a point and interval estimate for the mean based on these statistics."
   ]
  },
  {
   "cell_type": "code",
   "execution_count": 141,
   "metadata": {},
   "outputs": [],
   "source": [
    "import scipy.stats as st\n",
    "import numpy as np\n",
    "from scipy.stats import binom\n",
    "import math\n",
    "import random"
   ]
  },
  {
   "cell_type": "code",
   "execution_count": 142,
   "metadata": {},
   "outputs": [],
   "source": [
    "def Call_CIDict():\n",
    "    \"\"\"\n",
    "    Construct a ConfidenceInterval Format\n",
    "        If `None` a dictionary with entries `mean`, `level`, `lwr`, and\n",
    "        `upr` whose values give the point estimate, confidence level (as a %),\n",
    "        lower and upper confidence bounds, respectively. If a string, it's the\n",
    "        result of calling the `.format_map()` method using this dictionary.\n",
    "        The default is \"{mean:.1f} [{level:0.f}%: ({lwr:.1f}, {upr:.1f})]\".\n",
    "        \n",
    "    Returns\n",
    "    -------\n",
    "    the function will return a desired ConfidenceInterval format.\n",
    "        \n",
    "    \"\"\"\n",
    "    \n",
    "    ConfidenceInterval_Format = {'est':None, 'lwr': None, 'upr': None, 'level': None}\n",
    "    return ConfidenceInterval_Format"
   ]
  },
  {
   "cell_type": "code",
   "execution_count": 143,
   "metadata": {},
   "outputs": [],
   "source": [
    "#input an array\n",
    "a = np.random.randint(2, size = 40)\n",
    "#input an Confidence Level in range[0,1]\n",
    "CL = 0.95"
   ]
  },
  {
   "cell_type": "code",
   "execution_count": 144,
   "metadata": {},
   "outputs": [],
   "source": [
    "def Normal_Theory(numarray, CL, CI_Format):\n",
    "    \n",
    "    \"\"\"\n",
    "    Construct an estimate and confidence interval for the mean of `numarray`.\n",
    "\n",
    "    Parameters\n",
    "    ----------\n",
    "    numarray : A 1-dimensional NumPy array or compatible sequence type (list, tuple).\n",
    "        A data vector from which to form the estimates.\n",
    "    CL : float, optional.\n",
    "        The desired confidence level, converted to a percent in the output.\n",
    "        The default is 0.95.\n",
    "    CI_Format: str or None, optional.\n",
    "        If `None` a dictionary with entries `mean`, `level`, `lwr`, and\n",
    "        `upr` whose values give the point estimate, confidence level (as a %),\n",
    "        lower and upper confidence bounds, respectively. If a string, it's the\n",
    "        result of calling the `.format_map()` method using this dictionary.\n",
    "        The default is \"{mean:.2f} [{level:.0f}%: ({lwr:.2f}, {upr:.2f})]\".\n",
    "\n",
    "    Returns\n",
    "    -------\n",
    "    By default, the function returns a string with a 95% confidence interval\n",
    "    in the form \"mean [95% CI: (lwr, upr)]\". A dictionary containing the mean,\n",
    "    confidence level, lower, bound, and upper bound can also be returned.\n",
    "\n",
    "    \"\"\"\n",
    "    \n",
    "    CI_Format['level'] = str(CL*100)+\"%\"\n",
    "    \n",
    "    mean, sigma = np.mean(numarray), np.std(numarray)\n",
    "    #Note:Standard error=Standard deviation / sqrt(n)\n",
    "    se = sigma/ math.sqrt(len(numarray))\n",
    "    CI_Format['est'] = format(mean,'.5f')\n",
    "    \n",
    "    z = st.norm.ppf((1+CL)/2)\n",
    "    lwr = mean - z*se\n",
    "    upr = mean + z*se\n",
    "    CI_Format['lwr'] = format((lwr),'.5f')\n",
    "    CI_Format['upr'] = format((upr),'.5f')\n",
    "    \n",
    "    \n",
    "    String_Format = str(CI_Format['est'])+\"[\"+CI_Format['level']+\"CI:\"+\"(\"+str(CI_Format['lwr'])+\",\"+str(CI_Format['upr'])+\")]\"\n",
    "    return String_Format, CI_Format"
   ]
  },
  {
   "cell_type": "code",
   "execution_count": 145,
   "metadata": {},
   "outputs": [
    {
     "name": "stdout",
     "output_type": "stream",
     "text": [
      "('0.52500[95.0%CI:(0.37025,0.67975)]', {'est': '0.52500', 'lwr': '0.37025', 'upr': '0.67975', 'level': '95.0%'})\n"
     ]
    }
   ],
   "source": [
    "CI_Format = Call_CIDict()\n",
    "print(Normal_Theory(a, CL, CI_Format))"
   ]
  },
  {
   "cell_type": "markdown",
   "metadata": {},
   "source": [
    "**b.** There are a number of methods for computing a confidence interval for a population proportion arising from a Binomial experiment consisting of n independent and identically distributed (iid) Bernoulli trials. Let x be the number of successes in thes trials. In this question you will write a function to return point and interval estimates based on several of these methods. Your function should have a parameter `method` that controls the method used. Include functionality for each of the following methods."
   ]
  },
  {
   "cell_type": "markdown",
   "metadata": {},
   "source": [
    "1)The standard point and interval estimates for a population parameter based on the Normal approximation to the Binomial distribution takes the form $\\hat{p} \\pm z \\times \\sqrt{\\hat{p} (1−\\hat{p})/n}$ with $\\hat{p}$ the sample proportion and z as in part a. The approximation is conventionally considered adequate when $n\\hat{p} ∧n(1−\\hat{p} )>12$. When this method is selected, your function should raise an informative warning if this condition is not satisfied."
   ]
  },
  {
   "cell_type": "code",
   "execution_count": 146,
   "metadata": {},
   "outputs": [],
   "source": [
    "def Normal_approximation(numarray, CL, CI_Format):\n",
    "    \n",
    "    \"\"\"\n",
    "    Construct point and interval estimates for a population proportion using Normal approximation method.\n",
    "\n",
    "    Parameters\n",
    "    ----------\n",
    "    numarray : A 1-dimensional NumPy array or compatible sequence type (list, tuple).\n",
    "        A data vector of 0/1 or False/True from which to form the estimates.\n",
    "    CL : float, optional.\n",
    "        The desired confidence level, converted to a percent in the output.\n",
    "        The default is 0.95.\n",
    "    CI_Format: str or None, optional.\n",
    "        If `None` a dictionary with entries `mean`, `level`, `lwr`, and\n",
    "        `upr` whose values give the point estimate, confidence level (as a %),\n",
    "        lower and upper confidence bounds, respectively. If a string, it's the\n",
    "        result of calling the `.format_map()` method using this dictionary.\n",
    "        The default is \"{mean:.1f} [{level:0.f}%: ({lwr:.1f}, {upr:.1f})]\".\n",
    "\n",
    "    Returns\n",
    "    -------\n",
    "    A string with a (100 * level)% confidence interval in the form\n",
    "    \"mean [(100 * level)% CI: (lwr, upr)]\" or a dictionary containing the\n",
    "    keywords shown in the string.\n",
    "\n",
    "    \"\"\"\n",
    "    \n",
    "    n = len(numarray)\n",
    "    CI_Format['level'] = str(CL*100)+\"%\"\n",
    "    x = np.sum(a)\n",
    "    p_hat = x/n\n",
    "    if (min(n*p_hat,n*(1-p_hat)) <= 12):\n",
    "        return \"Nomal approximation to the Binomial distribution is not adequate!\"\n",
    "    else:\n",
    "        sigma = math.sqrt(p_hat*(1 - p_hat)/n)\n",
    "        CI_Format['est'] = format(p_hat,'.5f')\n",
    "        \n",
    "        z = st.norm.ppf((1+CL)/2)\n",
    "        lwr = p_hat - z*sigma\n",
    "        upr = p_hat + z*sigma\n",
    "        CI_Format['lwr'] = format(lwr ,'.5f')\n",
    "        CI_Format['upr'] = format(upr,'.5f')\n",
    "        \n",
    "        String_Format = str(CI_Format['est'])+\"[\"+CI_Format['level']+\"CI:\"+\"(\"+str(CI_Format['lwr'])+\",\"+str(CI_Format['upr'])+\")]\"\n",
    "        return String_Format, CI_Format   "
   ]
  },
  {
   "cell_type": "markdown",
   "metadata": {},
   "source": [
    "2)The Clopper-Pearson interval for a population proportion can be expressed using quantiles from Beta distributions. Specifically, for a sample of size n with x successes and $$\\alpha =1 - ConfidenceLevel$$ the interval is,\n",
    " $$(\\hat {\\theta}_{L}, \\hat {\\theta}_{U}) = ( B(\\frac{\\alpha}{2}, x, n - x + 1),B(1 - \\frac{\\alpha}{2}, x + 1, n - x)).$$"
   ]
  },
  {
   "cell_type": "code",
   "execution_count": 147,
   "metadata": {},
   "outputs": [],
   "source": [
    "def Clopper_Pearson(numarray, CL, CI_Format):\n",
    "    \n",
    "    \"\"\"\n",
    "    Construct point and interval estimates for a population proportion using Clopper Pearson method.\n",
    "\n",
    "    Parameters\n",
    "    ----------\n",
    "    numarray : A 1-dimensional NumPy array or compatible sequence type (list, tuple).\n",
    "        A data vector of 0/1 or False/True from which to form the estimates.\n",
    "    CL : float, optional.\n",
    "        The desired confidence level, converted to a percent in the output.\n",
    "        The default is 0.95.\n",
    "    CI_Format: str or None, optional.\n",
    "        If `None` a dictionary with entries `mean`, `level`, `lwr`, and\n",
    "        `upr` whose values give the point estimate, confidence level (as a %),\n",
    "        lower and upper confidence bounds, respectively. If a string, it's the\n",
    "        result of calling the `.format_map()` method using this dictionary.\n",
    "        The default is \"{mean:.1f} [{level:0.f}%: ({lwr:.1f}, {upr:.1f})]\".\n",
    "\n",
    "    Returns\n",
    "    -------\n",
    "    A string with a (100 * level)% confidence interval in the form\n",
    "    \"mean [(100 * level)% CI: (lwr, upr)]\" or a dictionary containing the\n",
    "    keywords shown in the string.\n",
    "\n",
    "    \"\"\"\n",
    "    \n",
    "    alpha = 1 - CL\n",
    "    CI_Format['level'] = str(CL*100)+\"%\"\n",
    "    \n",
    "    n = len(numarray)\n",
    "    x = np.sum(a)\n",
    "    theta = x/n\n",
    "    CI_Format['est'] = format(theta, '.5f')\n",
    "    \n",
    "    lwr = st.beta.ppf(alpha/2, x, n-x+1)\n",
    "    upr = st.beta.ppf(1-alpha/2, x+1, n-x)\n",
    "    CI_Format['lwr'] = format(lwr ,'.5f')\n",
    "    CI_Format['upr'] = format(upr,'.5f')\n",
    "    \n",
    "    String_Format = str(CI_Format['est'])+\"[\"+CI_Format['level']+\"CI:\"+\"(\"+str(CI_Format['lwr'])+\",\"+str(CI_Format['upr'])+\")]\"\n",
    "    return String_Format, CI_Format"
   ]
  },
  {
   "cell_type": "markdown",
   "metadata": {},
   "source": [
    "3)The Jeffrey’s interval is a Bayesian credible interval with good frequentist properties. It is similar to the Clopper-Pearson interval in that it utilizes Beta quantiles, but is based on a so-called Jeffrey’s prior of $B(p,0.5,0.5)$. Specifically, the Jeffrey’s interval is $(0∨B(α/2,x+0.5,n−x+0.5),B(1−α/2,x+0.5,n−x+0.5)∧1)$. (Use the sample proportion as the point estimate)."
   ]
  },
  {
   "cell_type": "code",
   "execution_count": 148,
   "metadata": {},
   "outputs": [],
   "source": [
    "def Jeffrey(numarray, CL, CI_Format):\n",
    "    \n",
    "        \"\"\"\n",
    "    Construct point and interval estimates for a population proportion using Jeffrey method.\n",
    "\n",
    "    Parameters\n",
    "    ----------\n",
    "    numarray : A 1-dimensional NumPy array or compatible sequence type (list, tuple).\n",
    "        A data vector of 0/1 or False/True from which to form the estimates.\n",
    "    CL : float, optional.\n",
    "        The desired confidence level, converted to a percent in the output.\n",
    "        The default is 0.95.\n",
    "    CI_Format: str or None, optional.\n",
    "        If `None` a dictionary with entries `mean`, `level`, `lwr`, and\n",
    "        `upr` whose values give the point estimate, confidence level (as a %),\n",
    "        lower and upper confidence bounds, respectively. If a string, it's the\n",
    "        result of calling the `.format_map()` method using this dictionary.\n",
    "        The default is \"{mean:.1f} [{level:0.f}%: ({lwr:.1f}, {upr:.1f})]\".\n",
    "\n",
    "    Returns\n",
    "    -------\n",
    "    A string with a (100 * level)% confidence interval in the form\n",
    "    \"mean [(100 * level)% CI: (lwr, upr)]\" or a dictionary containing the\n",
    "    keywords shown in the string.\n",
    "\n",
    "    \"\"\"\n",
    "    \n",
    "    alpha = 1 - CL\n",
    "    CI_Format['level'] = str(CL*100)+\"%\"\n",
    "    n = len(numarray)\n",
    "    x = np.sum(a)\n",
    "    theta = x/n\n",
    "    CI_Format['est'] = format(theta, '.5f')\n",
    "    \n",
    "    lwr = max(0, st.beta.ppf(alpha/2, x+0.5, n-x+0.5))\n",
    "    upr = min(st.beta.ppf(1-alpha/2, x+0.5, n-x+0.5), 1)\n",
    "    CI_Format['lwr'] = format(lwr ,'.5f')\n",
    "    CI_Format['upr'] = format(upr,'.5f')\n",
    "    \n",
    "    String_Format = str(CI_Format['est'])+\"[\"+CI_Format['level']+\"CI:\"+\"(\"+str(CI_Format['lwr'])+\",\"+str(CI_Format['upr'])+\")]\"\n",
    "    return String_Format, CI_Format   "
   ]
  },
  {
   "cell_type": "markdown",
   "metadata": {},
   "source": [
    "4)Finally, the Agresti-Coull interval arises from a notion “add 2 failures and 2 successes” as a means of regularization. More specifically, define $\\tilde{n} =n+z^2$ and $\\tilde{p} =(x+z^2/2)/\\tilde{n}$ . The Agresti-Coull interval is Normal approximation interval using $\\tilde{p}$ in place of $\\hat {p}$."
   ]
  },
  {
   "cell_type": "markdown",
   "metadata": {},
   "source": [
    "> According to wikipedia \"Agresti- Coull interval\" definition, we can see the confidence interval for $p$ is give by\n",
    "$$\\tilde{p}\\pm z\\sqrt{\\tilde{p} (1−\\tilde{p})/\\tilde{n}}$$"
   ]
  },
  {
   "cell_type": "code",
   "execution_count": 149,
   "metadata": {},
   "outputs": [],
   "source": [
    "def Agresti_Coull(numarray, CL, CI_Format):\n",
    "    \n",
    "    \"\"\"\n",
    "    Construct point and interval estimates for a population proportion using Agresti Coull method.\n",
    "\n",
    "    Parameters\n",
    "    ----------\n",
    "    numarray : A 1-dimensional NumPy array or compatible sequence type (list, tuple).\n",
    "        A data vector of 0/1 or False/True from which to form the estimates.\n",
    "    CL : float, optional.\n",
    "        The desired confidence level, converted to a percent in the output.\n",
    "        The default is 0.95.\n",
    "    CI_Format: str or None, optional.\n",
    "        If `None` a dictionary with entries `mean`, `level`, `lwr`, and\n",
    "        `upr` whose values give the point estimate, confidence level (as a %),\n",
    "        lower and upper confidence bounds, respectively. If a string, it's the\n",
    "        result of calling the `.format_map()` method using this dictionary.\n",
    "        The default is \"{mean:.1f} [{level:0.f}%: ({lwr:.1f}, {upr:.1f})]\".\n",
    "\n",
    "    Returns\n",
    "    -------\n",
    "    A string with a (100 * level)% confidence interval in the form\n",
    "    \"mean [(100 * level)% CI: (lwr, upr)]\" or a dictionary containing the\n",
    "    keywords shown in the string.\n",
    "\n",
    "    \"\"\"\n",
    "    \n",
    "    CI_Format['level'] = str(CL*100)+\"%\"\n",
    "    z = st.norm.ppf((1+CL)/2)\n",
    "    x = np.sum(a)\n",
    "    n_tilde = len(numarray) + z**2\n",
    "    p_tilde = (x + z**2/2)/n_tilde\n",
    "    CI_Format['est'] = format(p_tilde,'.5f')\n",
    "    \n",
    "    sigma = math.sqrt(p_tilde*(1 - p_tilde)/n_tilde)\n",
    "    \n",
    "    lwr = p_tilde - z*sigma\n",
    "    upr = p_tilde + z*sigma\n",
    "    CI_Format['lwr'] = format(lwr ,'.5f')\n",
    "    CI_Format['upr'] = format(upr,'.5f')\n",
    "    \n",
    "    String_Format = str(CI_Format['est'])+\"[\"+CI_Format['level']+\"CI:\"+\"(\"+str(CI_Format['lwr'])+\",\"+str(CI_Format['upr'])+\")]\"\n",
    "    return String_Format, CI_Format"
   ]
  },
  {
   "cell_type": "markdown",
   "metadata": {},
   "source": [
    "### The following is a function to return point and interval estimates based on these 4 methods shown above."
   ]
  },
  {
   "cell_type": "code",
   "execution_count": 152,
   "metadata": {},
   "outputs": [],
   "source": [
    "def Interval_method(method, a, CL):\n",
    "    \n",
    "    \"\"\"\n",
    "    Construct point and interval estimates for a population proportion.\n",
    "    The \"method\" argument controls the estimates returned. Available methods\n",
    "    are \"Normal\", to use the normal approximation to the Binomial, \"CP\" to\n",
    "    use the Clopper-Pearson method, \"Jeffrey\" to use Jeffery's method, and\n",
    "    \"AC\" for the Agresti-Coull method.\n",
    "\n",
    "    Parameters\n",
    "    ----------\n",
    "    \n",
    "    method : str, optional\n",
    "        The type of confidence interval and point estimate desired.  Allowed\n",
    "        values are \"Normal\" for the normal approximation to the Binomial,\n",
    "        \"CP\" for a Clopper-Pearson interval, \"Jeffrey\" for Jeffrey's method,\n",
    "        or \"AC\" for the Agresti-Coull estimates.\n",
    "    a : A 1-dimensional NumPy array or compatible sequence type (list, tuple).\n",
    "        A data vector of 0/1 or False/True from which to form the estimates.\n",
    "    CL : float, optional.\n",
    "        The desired confidence level, converted to a percent in the output.\n",
    "        The default is 0.95.\n",
    "\n",
    "    Returns\n",
    "    -------\n",
    "    A string with a (100 * level)% confidence interval in the form\n",
    "    \"mean [(100 * level)% CI: (lwr, upr)]\" or a dictionary containing the\n",
    "    keywords shown in the string.\n",
    "\n",
    "    \"\"\"\n",
    "    \n",
    "    if method == \"Normal_approximation\":\n",
    "        return Normal_approximation(a, CL, Call_CIDict())\n",
    "    elif method == \"Clopper_Pearson\":\n",
    "        return Clopper_Pearson(a, CL, Call_CIDict())\n",
    "    elif method == \"Jeffrey\":\n",
    "        return Jeffrey(a, CL, Call_CIDict())\n",
    "    elif method == \"Agresti_Coull\":\n",
    "        return Agresti_Coull(a, CL, Call_CIDict())\n",
    "    else:\n",
    "        return \"No such method!\""
   ]
  },
  {
   "cell_type": "code",
   "execution_count": 153,
   "metadata": {},
   "outputs": [
    {
     "name": "stdout",
     "output_type": "stream",
     "text": [
      "('0.52500[95.0%CI:(0.37025,0.67975)]', {'est': '0.52500', 'lwr': '0.37025', 'upr': '0.67975', 'level': '95.0%'})\n",
      "('0.52500[95.0%CI:(0.36128,0.68488)]', {'est': '0.52500', 'lwr': '0.36128', 'upr': '0.68488', 'level': '95.0%'})\n",
      "('0.52500[95.0%CI:(0.37305,0.67348)]', {'est': '0.52500', 'lwr': '0.37305', 'upr': '0.67348', 'level': '95.0%'})\n",
      "('0.52281[95.0%CI:(0.37496,0.67066)]', {'est': '0.52281', 'lwr': '0.37496', 'upr': '0.67066', 'level': '95.0%'})\n"
     ]
    }
   ],
   "source": [
    "print(PPCInterval_method(\"Normal_approximation\", a, CL))\n",
    "print(PPCInterval_method(\"Clopper_Pearson\", a, CL))\n",
    "print(PPCInterval_method(\"Jeffrey\", a, CL))\n",
    "print(PPCInterval_method(\"Agresti_Coull\", a, CL))"
   ]
  },
  {
   "cell_type": "markdown",
   "metadata": {},
   "source": [
    "**c.** Create a 1d Numpy array with 42 ones and 48 zeros. Construct a nicely formatted table comparing 90, 95, and 99% confidence intervals using each of the methods above (including part a) on this data. Choose the number of decimals to display carefully to emphasize differences. For each confidence level, which method produces the interval with the smallest width?"
   ]
  },
  {
   "cell_type": "code",
   "execution_count": 154,
   "metadata": {},
   "outputs": [],
   "source": [
    "#Create a 1d Numpy Array of 90 zeros\n",
    "oneD_Array = np.zeros((90,), dtype = int)\n",
    "#in range(0, 90), generate 42 positions for 1\n",
    "\n",
    "one_pos = range(0,90)\n",
    "one_positions = random.sample(one_pos,42)\n",
    "#Successfully create a 1d Numpy array with 42 ones and 48 zeros\n",
    "for i in range(42):\n",
    "    temp = one_positions[i]\n",
    "    oneD_Array[temp] = 1"
   ]
  },
  {
   "cell_type": "code",
   "execution_count": 155,
   "metadata": {},
   "outputs": [],
   "source": [
    "CL_array = np.array([0.90, 0.95, 0.99])"
   ]
  },
  {
   "cell_type": "code",
   "execution_count": 156,
   "metadata": {},
   "outputs": [
    {
     "data": {
      "text/html": [
       "<div>\n",
       "<style scoped>\n",
       "    .dataframe tbody tr th:only-of-type {\n",
       "        vertical-align: middle;\n",
       "    }\n",
       "\n",
       "    .dataframe tbody tr th {\n",
       "        vertical-align: top;\n",
       "    }\n",
       "\n",
       "    .dataframe thead th {\n",
       "        text-align: right;\n",
       "    }\n",
       "</style>\n",
       "<table border=\"1\" class=\"dataframe\">\n",
       "  <thead>\n",
       "    <tr style=\"text-align: right;\">\n",
       "      <th></th>\n",
       "    </tr>\n",
       "  </thead>\n",
       "  <tbody>\n",
       "  </tbody>\n",
       "</table>\n",
       "</div>"
      ],
      "text/plain": [
       "Empty DataFrame\n",
       "Columns: []\n",
       "Index: []"
      ]
     },
     "execution_count": 156,
     "metadata": {},
     "output_type": "execute_result"
    }
   ],
   "source": [
    "width = np.zeros((3,5))\n",
    "import pandas as pd\n",
    "dataname = []\n",
    "df = pd.DataFrame()\n",
    "df"
   ]
  },
  {
   "cell_type": "code",
   "execution_count": 157,
   "metadata": {},
   "outputs": [],
   "source": [
    "for i in range(3):\n",
    "    \n",
    "    CI_Format0, dict0 = Normal_Theory(oneD_Array, CL_array[i], CI_Format)\n",
    "    width[i][0] = format(float(dict0['upr']) - float(dict0['lwr']),'.5f')\n",
    "    Intl0 = CI_Format0[13:33] + \"||width:\" + str(width[i][0])\n",
    "    \n",
    "    \n",
    "    CI_Format1, dict1 = Normal_approximation(oneD_Array, CL_array[i], CI_Format)\n",
    "    width[i][1] = format(float(dict1['upr']) - float(dict1['lwr']),'.5f')\n",
    "    Intl1 = CI_Format1[13:33] + \"||width:\" + str(width[i][1])\n",
    "    \n",
    "    CI_Format2, dict2 = Clopper_Pearson(oneD_Array, CL_array[i], CI_Format)\n",
    "    width[i][2] = format(float(dict2['upr']) - float(dict2['lwr']),'.5f')\n",
    "    Intl2 = CI_Format2[13:33] + \"||width:\" + str(width[i][2])\n",
    "    \n",
    "    \n",
    "    CI_Format3, dict3 = Jeffrey(oneD_Array, CL_array[i], CI_Format)\n",
    "    width[i][3] = format(float(dict3['upr']) - float(dict3['lwr']),'.5f')\n",
    "    Intl3 = CI_Format3[13:33] + \"||width:\" + str(width[i][3])\n",
    "        \n",
    "    CI_Format4, dict4 = Agresti_Coull(oneD_Array, CL_array[i], CI_Format)\n",
    "    width[i][4] = format(float(dict4['upr']) - float(dict4['lwr']),'.5f')\n",
    "    Intl4 = CI_Format4[13:33] + \"||width:\" + str(width[i][4])\n",
    "       \n",
    "    data = {\"Normal_Theory\": Intl0,\n",
    "            \"Normal_approximation\":Intl1,\n",
    "            \"Clopper_Pearson\":Intl2,\n",
    "            \"Jeffrey\":Intl3,\n",
    "            \"Agresti_Coull\":Intl4}\n",
    "    indexname = \"CL=\"+str(CL_array[i]*100)+\"%\"\n",
    "    df1 = pd.Series(data, name = indexname)\n",
    "    df = df.append(df1)"
   ]
  },
  {
   "cell_type": "code",
   "execution_count": 158,
   "metadata": {},
   "outputs": [
    {
     "data": {
      "text/plain": [
       "array([[0.173  , 0.14667, 0.15634, 0.14551, 0.14615],\n",
       "       [0.20614, 0.17476, 0.18368, 0.17294, 0.17386],\n",
       "       [0.27091, 0.22968, 0.23638, 0.22586, 0.22742]])"
      ]
     },
     "execution_count": 158,
     "metadata": {},
     "output_type": "execute_result"
    }
   ],
   "source": [
    "width"
   ]
  },
  {
   "cell_type": "code",
   "execution_count": 159,
   "metadata": {},
   "outputs": [
    {
     "data": {
      "text/html": [
       "<div>\n",
       "<style scoped>\n",
       "    .dataframe tbody tr th:only-of-type {\n",
       "        vertical-align: middle;\n",
       "    }\n",
       "\n",
       "    .dataframe tbody tr th {\n",
       "        vertical-align: top;\n",
       "    }\n",
       "\n",
       "    .dataframe thead th {\n",
       "        text-align: right;\n",
       "    }\n",
       "</style>\n",
       "<table border=\"1\" class=\"dataframe\">\n",
       "  <thead>\n",
       "    <tr style=\"text-align: right;\">\n",
       "      <th></th>\n",
       "      <th>Normal_Theory</th>\n",
       "      <th>Normal_approximation</th>\n",
       "      <th>Clopper_Pearson</th>\n",
       "      <th>Jeffrey</th>\n",
       "      <th>Agresti_Coull</th>\n",
       "    </tr>\n",
       "  </thead>\n",
       "  <tbody>\n",
       "    <tr>\n",
       "      <th>CL=90.0%</th>\n",
       "      <td>CI:(0.38017,0.55317)||width:0.173</td>\n",
       "      <td>CI:(0.16000,0.30667)||width:0.14667</td>\n",
       "      <td>CI:(0.16200,0.31834)||width:0.15634</td>\n",
       "      <td>CI:(0.16682,0.31233)||width:0.14551</td>\n",
       "      <td>CI:(0.16804,0.31419)||width:0.14615</td>\n",
       "    </tr>\n",
       "    <tr>\n",
       "      <th>CL=95.0%</th>\n",
       "      <td>CI:(0.36360,0.56974)||width:0.20614</td>\n",
       "      <td>CI:(0.14595,0.32071)||width:0.17476</td>\n",
       "      <td>CI:(0.15061,0.33429)||width:0.18368</td>\n",
       "      <td>CI:(0.15528,0.32822)||width:0.17294</td>\n",
       "      <td>CI:(0.15732,0.33118)||width:0.17386</td>\n",
       "    </tr>\n",
       "    <tr>\n",
       "      <th>CL=99.0%</th>\n",
       "      <td>CI:(0.33121,0.60212)||width:0.27091</td>\n",
       "      <td>CI:(0.11849,0.34817)||width:0.22968</td>\n",
       "      <td>CI:(0.12974,0.36612)||width:0.23638</td>\n",
       "      <td>CI:(0.13409,0.35995)||width:0.22586</td>\n",
       "      <td>CI:(0.13793,0.36535)||width:0.22742</td>\n",
       "    </tr>\n",
       "  </tbody>\n",
       "</table>\n",
       "</div>"
      ],
      "text/plain": [
       "                                Normal_Theory  \\\n",
       "CL=90.0%    CI:(0.38017,0.55317)||width:0.173   \n",
       "CL=95.0%  CI:(0.36360,0.56974)||width:0.20614   \n",
       "CL=99.0%  CI:(0.33121,0.60212)||width:0.27091   \n",
       "\n",
       "                         Normal_approximation  \\\n",
       "CL=90.0%  CI:(0.16000,0.30667)||width:0.14667   \n",
       "CL=95.0%  CI:(0.14595,0.32071)||width:0.17476   \n",
       "CL=99.0%  CI:(0.11849,0.34817)||width:0.22968   \n",
       "\n",
       "                              Clopper_Pearson  \\\n",
       "CL=90.0%  CI:(0.16200,0.31834)||width:0.15634   \n",
       "CL=95.0%  CI:(0.15061,0.33429)||width:0.18368   \n",
       "CL=99.0%  CI:(0.12974,0.36612)||width:0.23638   \n",
       "\n",
       "                                      Jeffrey  \\\n",
       "CL=90.0%  CI:(0.16682,0.31233)||width:0.14551   \n",
       "CL=95.0%  CI:(0.15528,0.32822)||width:0.17294   \n",
       "CL=99.0%  CI:(0.13409,0.35995)||width:0.22586   \n",
       "\n",
       "                                Agresti_Coull  \n",
       "CL=90.0%  CI:(0.16804,0.31419)||width:0.14615  \n",
       "CL=95.0%  CI:(0.15732,0.33118)||width:0.17386  \n",
       "CL=99.0%  CI:(0.13793,0.36535)||width:0.22742  "
      ]
     },
     "execution_count": 159,
     "metadata": {},
     "output_type": "execute_result"
    }
   ],
   "source": [
    "df"
   ]
  },
  {
   "cell_type": "markdown",
   "metadata": {},
   "source": [
    "**From the above table, we can conclude that Jeffrey method produces the interval with the smallest width.**"
   ]
  }
 ],
 "metadata": {
  "jupytext": {
   "encoding": "# -*- coding: utf-8 -*-",
   "formats": "ipynb,py:light"
  },
  "kernelspec": {
   "display_name": "Python 3",
   "language": "python",
   "name": "python3"
  },
  "language_info": {
   "codemirror_mode": {
    "name": "ipython",
    "version": 3
   },
   "file_extension": ".py",
   "mimetype": "text/x-python",
   "name": "python",
   "nbconvert_exporter": "python",
   "pygments_lexer": "ipython3",
   "version": "3.7.3"
  }
 },
 "nbformat": 4,
 "nbformat_minor": 2
}
