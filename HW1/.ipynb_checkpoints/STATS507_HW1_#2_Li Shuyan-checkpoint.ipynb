{
 "cells": [
  {
   "cell_type": "markdown",
   "metadata": {},
   "source": [
    "# Question 2 - Pascal’s Triangle [20]"
   ]
  },
  {
   "cell_type": "markdown",
   "metadata": {},
   "source": [
    "Pascal’s triangle is a way to organize, compute, and present the Binomial coefficients (${n \\atop k}$). The triangle can be constructed from the top starting with rows 0 [(${0 \\atop 0}$)=1], and 1 [(${1 \\atop 0}$)=1, (${1 \\atop 1}$)=1]. From there, subsequent rows can be computed by adding adjacent entries from the previous row (implicitly appending zeros on the left and right)."
   ]
  },
  {
   "cell_type": "markdown",
   "metadata": {},
   "source": [
    "a. Write a function to compute a specified row of Pascal’s triangle. An arbitrary row of Pascal’s triangle can be computed efficiently by starting with (${n \\atop 0}$)=1 and then applying the following recurrence relation among binomial coefficients,"
   ]
  },
  {
   "cell_type": "markdown",
   "metadata": {},
   "source": [
    "(${n \\atop k}$) = (${n \\atop k-1}$)$\\times$${n+1-k}\\over{k}$"
   ]
  },
  {
   "cell_type": "code",
   "execution_count": 107,
   "metadata": {},
   "outputs": [],
   "source": [
    "def getRow(n):\n",
    "    \n",
    "    \"\"\"\n",
    "    Compute an arbitrary row of Pacal's triangle.\n",
    "\n",
    "    Row 0 is \"1\", row 1 is \"1, 1\".  \n",
    "\n",
    "    Parameters\n",
    "    ----------\n",
    "    n : int\n",
    "        The desired row.\n",
    " \n",
    "    Returns\n",
    "    -------\n",
    "    A list with values for the desired row. \n",
    "    \"\"\"\n",
    "    \n",
    "    row_lst = []\n",
    "    def getElement(n, k):\n",
    "        if (k == 0):\n",
    "            return 1\n",
    "        else:\n",
    "            return (getElement(n, k-1)*((n+1-k)/k))\n",
    "    for i in range(0,n+1):\n",
    "        row_lst.append(int(getElement(n, i)))\n",
    "    return row_lst"
   ]
  },
  {
   "cell_type": "code",
   "execution_count": 108,
   "metadata": {},
   "outputs": [
    {
     "data": {
      "text/plain": [
       "[1, 4, 6, 4, 1]"
      ]
     },
     "execution_count": 108,
     "metadata": {},
     "output_type": "execute_result"
    }
   ],
   "source": [
    "getRow(4)"
   ]
  },
  {
   "cell_type": "markdown",
   "metadata": {},
   "source": [
    "b. Write a function for printing the first n rows of Pascal’s triangle using the conventional spacing with the numbers in each row staggered relative to adjacent rows. Use your function to display a minimum of 10 rows in your notebook."
   ]
  },
  {
   "cell_type": "code",
   "execution_count": 122,
   "metadata": {},
   "outputs": [
    {
     "data": {
      "text/plain": [
       "[[1],\n",
       " [1, 1],\n",
       " [1, 2, 1],\n",
       " [1, 3, 3, 1],\n",
       " [1, 4, 6, 4, 1],\n",
       " [1, 5, 10, 10, 5, 1],\n",
       " [1, 6, 15, 20, 15, 6, 1],\n",
       " [1, 7, 21, 35, 35, 21, 7, 1],\n",
       " [1, 8, 28, 56, 70, 56, 28, 8, 1],\n",
       " [1, 9, 36, 84, 126, 126, 84, 36, 9, 1]]"
      ]
     },
     "execution_count": 122,
     "metadata": {},
     "output_type": "execute_result"
    }
   ],
   "source": [
    "def Pascal_func(rownum):\n",
    "    \n",
    "    \"\"\"\n",
    "    Compute an arbitrary row of Pacal's triangle.\n",
    "\n",
    "    Row 0 is \"1\", row 1 is \"1, 1\".  \n",
    "\n",
    "    Parameters\n",
    "    ----------\n",
    "    rownum : int\n",
    "        The desired number of rows.\n",
    "    \n",
    "    Returns\n",
    "    -------\n",
    "    A string which, when printed, displays the first n rows. \n",
    "    \"\"\"\n",
    "    \n",
    "    Pascal_tri = []\n",
    "    for i in range(0, rownum):\n",
    "        Pascal_tri.append(getRow(i))                       \n",
    "    return(Pascal_tri)\n",
    "Pascal_func(10)"
   ]
  },
  {
   "cell_type": "code",
   "execution_count": 131,
   "metadata": {},
   "outputs": [],
   "source": [
    "def triangle_print(n):\n",
    "\n",
    "    \"\"\"\n",
    "    Print an Pacal's triangle.\n",
    "\n",
    "    Parameters\n",
    "    ----------\n",
    "    n : int\n",
    "        The desired number of rows.\n",
    "    \n",
    "    Returns\n",
    "    -------\n",
    "    There is no return.\n",
    "    \"\"\"    \n",
    "    \n",
    "    \n",
    "    Tri = Pascal_func(n)\n",
    "    for i in range(n):\n",
    "        for j in range(n-i):\n",
    "            print(format(\" \",\"<2\"), end = \"\")\n",
    "        for j in range(i+1):\n",
    "            print(format(Tri[i][j],\"<4\"), end = \"\")\n",
    "        print()"
   ]
  },
  {
   "cell_type": "code",
   "execution_count": 132,
   "metadata": {},
   "outputs": [
    {
     "name": "stdout",
     "output_type": "stream",
     "text": [
      "                    1   \n",
      "                  1   1   \n",
      "                1   2   1   \n",
      "              1   3   3   1   \n",
      "            1   4   6   4   1   \n",
      "          1   5   10  10  5   1   \n",
      "        1   6   15  20  15  6   1   \n",
      "      1   7   21  35  35  21  7   1   \n",
      "    1   8   28  56  70  56  28  8   1   \n",
      "  1   9   36  84  126 126 84  36  9   1   \n"
     ]
    }
   ],
   "source": [
    "triangle_print(10)"
   ]
  }
 ],
 "metadata": {
  "jupytext": {
   "encoding": "# -*- coding: utf-8 -*-",
   "formats": "ipynb,py:light"
  },
  "kernelspec": {
   "display_name": "Python 3",
   "language": "python",
   "name": "python3"
  },
  "language_info": {
   "codemirror_mode": {
    "name": "ipython",
    "version": 3
   },
   "file_extension": ".py",
   "mimetype": "text/x-python",
   "name": "python",
   "nbconvert_exporter": "python",
   "pygments_lexer": "ipython3",
   "version": "3.7.3"
  }
 },
 "nbformat": 4,
 "nbformat_minor": 2
}
