{
 "cells": [
  {
   "cell_type": "markdown",
   "metadata": {},
   "source": [
    "# Name: Li Shuyan\n",
    "# UMID: 63161545"
   ]
  },
  {
   "cell_type": "markdown",
   "metadata": {},
   "source": [
    "> Github: https://github.com/lishuyanumich/Stats507"
   ]
  },
  {
   "cell_type": "markdown",
   "metadata": {},
   "source": [
    "# Q1"
   ]
  },
  {
   "cell_type": "markdown",
   "metadata": {},
   "source": [
    "1. To create a file named \"Stats507\" on my desktop, in the terminal I enter my Desktop first.\n",
    "\n",
    "`cd Desktop`\n",
    "\n",
    "Then,\n",
    "\n",
    "`git clone git@github.com:lishuyanumich/Stats507.git`.\n",
    "\n",
    "Next, I extract your code from PS2, Question 3 into a stand alone script or notebook and paste it to the file \"Stats507\" on my desktop.\n",
    "\n",
    "Then, I enter \"Stats507\":\n",
    "\n",
    "`cd Stats507`\n",
    "\n",
    "Next, I add it to the repo:\n",
    "\n",
    "`git add .`\n",
    "\n",
    "`git commit -m \"initial commit\"`\n",
    "\n",
    "`git push`\n"
   ]
  },
  {
   "cell_type": "markdown",
   "metadata": {},
   "source": [
    "2. I create a README.\n",
    "\n",
    "`echo \"# Stats507\" >> README.md`\n",
    "\n",
    "`git init`\n",
    "\n",
    "Then I use jupyter notebook open this README.md and briefly documents the purpose of the repo created in the warmup. And in the README, briefly document the script you included for the previous part - state what it dose and for what purpose. The README should include a link to this file.\n",
    "\n",
    "`git add README.md`\n",
    "\n",
    "`git commit -m \"initial commit\"`\n",
    "\n",
    "`git push`"
   ]
  },
  {
   "cell_type": "markdown",
   "metadata": {},
   "source": [
    "3. I commit the changes from the previous step and push them to the remote. A direct link to the commit from the remote’s history is https://github.com/lishuyanumich/Stats507/commit/4a1b44407f4056f9229d1e7b503062e998656a27."
   ]
  },
  {
   "cell_type": "markdown",
   "metadata": {},
   "source": [
    "4. Create a branch named “ps4”. \n",
    "\n",
    "`git checkout -b ps4`\n",
    "\n",
    "Checkout that branch and edit the file from step 3 to include “Gender” as you did for PS4 Q1. Commit these changes to the branch and create an upstream branch on GitHub to track this branch. \n",
    "\n",
    "`git add PS2_Q3.ipynb`\n",
    "\n",
    "`git commit -m \"Add gender\"`\n",
    "\n",
    "`git add README.md`\n",
    "\n",
    "`git commit -m \"Add gender\"`\n",
    "\n",
    "`git push --set-upstream origin ps4`"
   ]
  },
  {
   "cell_type": "markdown",
   "metadata": {},
   "source": [
    "5. Merge the “ps4” branch into the “main” branch. \n",
    "\n",
    "`git merge ps4`\n",
    "\n",
    "Include a direct link to the commit from the remote’s history: https://github.com/lishuyanumich/Stats507/compare/ps4?expand=1."
   ]
  },
  {
   "cell_type": "markdown",
   "metadata": {},
   "source": [
    "# Q2 GitHub Collaboration\n",
    "In this you question will extract your notes on a Panda’s topic from PS4, Question 0 to a script of their own. Then, you will collaborate to aggregate these into a single document for the course.\n",
    "\n",
    "1. In your Stats507 repo make a folder called “pandas_notes”.\n",
    "\n",
    "2. Extract your PS4, Question 0 topic tutorial and copy it into a script called “pd_topic_XYZ.py” replacing XYZ with your UM unique name. Include your name and UM email on a title “slide” (markdown cell) if you don’t have one already. Include a link in your writeup to this file.\n",
    "\n",
    "`git checkout -b newbranch1`\n",
    "\n",
    "`git add pandas_notes/pd_topic_lishuyan.py`\n",
    "\n",
    "`git commit -m \"new folder\"`\n",
    "\n",
    "`git checkout master`\n",
    "\n",
    "`git merge newbranch1`\n",
    "\n",
    "`git push -u origin master`\n",
    "\n",
    "`git branch -D newbranch1`\n",
    "\n",
    "https://github.com/lishuyanumich/Stats507/blob/master/pandas_notes/pd_topic_lishuyan.py"
   ]
  }
 ],
 "metadata": {
  "jupytext": {
   "formats": "ipynb,md"
  },
  "kernelspec": {
   "display_name": "Python 3",
   "language": "python",
   "name": "python3"
  },
  "language_info": {
   "codemirror_mode": {
    "name": "ipython",
    "version": 3
   },
   "file_extension": ".py",
   "mimetype": "text/x-python",
   "name": "python",
   "nbconvert_exporter": "python",
   "pygments_lexer": "ipython3",
   "version": "3.7.3"
  }
 },
 "nbformat": 4,
 "nbformat_minor": 2
}
