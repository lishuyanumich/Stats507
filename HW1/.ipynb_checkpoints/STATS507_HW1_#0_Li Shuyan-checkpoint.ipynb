{
 "cells": [
  {
   "cell_type": "markdown",
   "metadata": {},
   "source": [
    "# Question 0 - Markdown warmup [10 points]"
   ]
  },
  {
   "cell_type": "markdown",
   "metadata": {},
   "source": [
    "This is *question 0* for [problem set 1](https://jbhender.github.io/Stats507/F21/ps/ps1.html) of [Stats 507](https://jbhender.github.io/Stats507/F21/)."
   ]
  },
  {
   "cell_type": "markdown",
   "metadata": {},
   "source": [
    ">  Question 0 is about Markdown."
   ]
  },
  {
   "cell_type": "markdown",
   "metadata": {},
   "source": [
    "The next question is about the **Fibonnaci sequence**, $F_n=F_{n−2}+F_{n−1}$. In part **a** we will define a Python function `fib_rec()`.\n",
    "\n",
    "Below is a …"
   ]
  },
  {
   "cell_type": "markdown",
   "metadata": {},
   "source": [
    "### Level 3 Header"
   ]
  },
  {
   "cell_type": "markdown",
   "metadata": {},
   "source": [
    "Next, we can make a bulleted list:\n",
    "* Item 1  \n",
    "   \n",
    "    - detail 1\n",
    "    - detail 2\n",
    "* Item 2"
   ]
  },
  {
   "cell_type": "markdown",
   "metadata": {},
   "source": [
    "Finally, we can make an enumerated list:\n",
    "\n",
    "    a. Item 1\n",
    "    b. Item 2\n",
    "    c. Item 3"
   ]
  },
  {
   "cell_type": "raw",
   "metadata": {},
   "source": [
    "# Question 0 - Markdown warmup [10 points]"
   ]
  },
  {
   "cell_type": "raw",
   "metadata": {},
   "source": [
    "This is *question 0* for [problem set 1](https://jbhender.github.io/Stats507/F21/ps/ps1.html) of [Stats 507](https://jbhender.github.io/Stats507/F21/)."
   ]
  },
  {
   "cell_type": "raw",
   "metadata": {},
   "source": [
    ">  Question 0 is about Markdown."
   ]
  },
  {
   "cell_type": "raw",
   "metadata": {},
   "source": [
    "The next question is about the **Fibonnaci sequence**, $F_n=F_{n−2}+F_{n−1}$. In part **a** we will define a Python function `fib_rec()`.\n",
    "\n",
    "Below is a …"
   ]
  },
  {
   "cell_type": "raw",
   "metadata": {},
   "source": [
    "### Level 3 Header"
   ]
  },
  {
   "cell_type": "raw",
   "metadata": {},
   "source": [
    "Next, we can make a bulleted list:\n",
    "* Item 1  \n",
    "   \n",
    "    - detail 1\n",
    "    - detail 2\n",
    "* Item 2"
   ]
  },
  {
   "cell_type": "raw",
   "metadata": {},
   "source": [
    "Finally, we can make an enumerated list:\n",
    "\n",
    "    a. Item 1\n",
    "    b. Item 2\n",
    "    c. Item 3"
   ]
  }
 ],
 "metadata": {
  "jupytext": {
   "encoding": "# -*- coding: utf-8 -*-",
   "formats": "ipynb,py:light,md"
  },
  "kernelspec": {
   "display_name": "Python 3",
   "language": "python",
   "name": "python3"
  },
  "language_info": {
   "codemirror_mode": {
    "name": "ipython",
    "version": 3
   },
   "file_extension": ".py",
   "mimetype": "text/x-python",
   "name": "python",
   "nbconvert_exporter": "python",
   "pygments_lexer": "ipython3",
   "version": "3.7.3"
  }
 },
 "nbformat": 4,
 "nbformat_minor": 2
}
