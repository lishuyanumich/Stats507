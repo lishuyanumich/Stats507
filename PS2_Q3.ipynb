{
 "cells": [
  {
   "cell_type": "code",
   "execution_count": 1,
   "metadata": {},
   "outputs": [
    {
     "name": "stderr",
     "output_type": "stream",
     "text": [
      "/Users/ShuyanLi/anaconda3/lib/python3.7/site-packages/pandas/compat/_optional.py:138: UserWarning: Pandas requires version '2.7.0' or newer of 'numexpr' (version '2.6.9' currently installed).\n",
      "  warnings.warn(msg, UserWarning)\n"
     ]
    }
   ],
   "source": [
    "# modules: --------------------------------------------------------------------\n",
    "import numpy as np\n",
    "import pandas as pd\n",
    "from os.path import exists\n",
    "from math import floor \n",
    "from timeit import Timer\n",
    "from collections import defaultdict\n",
    "from IPython.core.display import display, HTML\n",
    "# 79: -------------------------------------------------------------------------"
   ]
  },
  {
   "cell_type": "markdown",
   "metadata": {},
   "source": [
    "# Question 3\n",
    "In this question we clean an append demographic and dentition data from several cohorts of the NHANES data."
   ]
  },
  {
   "cell_type": "code",
   "execution_count": 11,
   "metadata": {},
   "outputs": [],
   "source": [
    "# file location: -------------------------------------------------------------\n",
    "path = './'"
   ]
  },
  {
   "cell_type": "code",
   "execution_count": 12,
   "metadata": {},
   "outputs": [],
   "source": [
    "# column maps: ---------------------------------------------------------------\n",
    "# new names for demo cols\n",
    "demo_cols = {\n",
    "    'SEQN': 'id',\n",
    "    'RIDAGEYR': 'age',\n",
    "    'RIAGENDR': 'gender',\n",
    "    'RIDRETH3': 'race',\n",
    "    'DMDEDUC2': 'education',\n",
    "    'DMDMARTL': 'marital_status',\n",
    "    'RIDSTATR': 'exam_status',\n",
    "    'SDMVPSU': 'psu',\n",
    "    'SDMVSTRA': 'strata',\n",
    "    'WTMEC2YR': 'exam_wt',\n",
    "    'WTINT2YR': 'interview_wt'\n",
    "    }"
   ]
  },
  {
   "cell_type": "code",
   "execution_count": 13,
   "metadata": {},
   "outputs": [],
   "source": [
    "# new names for ohx cols\n",
    "ohx_cols = {'SEQN': 'id', 'OHDDESTS': 'dentition_status'}\n",
    "tc_cols = {'OHX' + str(i).zfill(2) + 'TC':\n",
    "           'tc_' + str(i).zfill(2) for i in range(1, 33)}\n",
    "ctc_cols = {'OHX' + str(i).zfill(2) + 'CTC':\n",
    "            'ctc_' + str(i).zfill(2) for i in range(2, 32)}\n",
    "_, _ = ctc_cols.pop('OHX16CTC'), ctc_cols.pop('OHX17CTC')"
   ]
  },
  {
   "cell_type": "code",
   "execution_count": 14,
   "metadata": {},
   "outputs": [],
   "source": [
    "ohx_cols.update(tc_cols)\n",
    "ohx_cols.update(ctc_cols)"
   ]
  },
  {
   "cell_type": "code",
   "execution_count": 15,
   "metadata": {},
   "outputs": [],
   "source": [
    "# columns to convert to integer\n",
    "demo_int = ('id', 'age', 'psu', 'strata')\n",
    "ohx_int = ('id', )"
   ]
  },
  {
   "cell_type": "code",
   "execution_count": 16,
   "metadata": {},
   "outputs": [],
   "source": [
    "# levels for categorical variables\n",
    "demo_cat = {\n",
    "    'gender': {1: 'Male', 2: 'Female'},\n",
    "    'race': {1: 'Mexican American',\n",
    "             2: 'Other Hispanic',\n",
    "             3: 'Non-Hispanic White',\n",
    "             4: 'Non-Hispanic Black',\n",
    "             6: 'Non-Hispanic Asian',\n",
    "             7: 'Other/Multiracial'\n",
    "             },\n",
    "    'education': {1: 'Less than 9th grade',\n",
    "                  2: '9-11th grade (Includes 12th grade with no diploma)',\n",
    "                  3: 'High school graduate/GED or equivalent',\n",
    "                  4: 'Some college or AA degree',\n",
    "                  5: 'College graduate or above',\n",
    "                  7: 'Refused',\n",
    "                  9: \"Don't know\"\n",
    "                  },\n",
    "    'marital_status': {1: 'Married',\n",
    "                       2: 'Widowed',\n",
    "                       3: 'Divorced',\n",
    "                       4: 'Separated',\n",
    "                       5: 'Never married',\n",
    "                       6: 'Living with partner',\n",
    "                       77: 'Refused',\n",
    "                       99: \"Don't know\"\n",
    "                       },\n",
    "    'exam_status': {1: 'Interviewed only',\n",
    "                    2: 'Both interviewed and MEC examined'\n",
    "                    }\n",
    "    }"
   ]
  },
  {
   "cell_type": "code",
   "execution_count": 17,
   "metadata": {},
   "outputs": [],
   "source": [
    "ohx_cat = {\n",
    "    'dentition_status': {1: 'Complete', 2: 'Partial', 3: 'Not Done'}\n",
    "    }"
   ]
  },
  {
   "cell_type": "code",
   "execution_count": 19,
   "metadata": {},
   "outputs": [],
   "source": [
    "tc = {\n",
    "      1: 'Primary tooth present',\n",
    "      2: 'Permanent tooth present',\n",
    "      3: 'Dental Implant',\n",
    "      4: 'Tooth not present',\n",
    "      5: 'Permanent dental root fragment present',\n",
    "      9: 'Could not assess'\n",
    "      }\n"
   ]
  },
  {
   "cell_type": "code",
   "execution_count": 20,
   "metadata": {},
   "outputs": [],
   "source": [
    "ctc = (\n",
    " {\n",
    "  'A': 'Primary tooth with a restored surface condition',\n",
    "  'D': 'Sound primary tooth',\n",
    "  'E': 'Missing due to dental disease',\n",
    "  'F': 'Permanent tooth with a restored surface condition',\n",
    "  'J':\n",
    "    'Permanent root tip is present but no restorative replacement is present',\n",
    "  'K': 'Primary tooth with a dental carious surface condition',\n",
    "  'M': 'Missing due to other causes',\n",
    "  'P':\n",
    "    'Missing due to dental disease but replaced by a removable restoration',\n",
    "  'Q':\n",
    "    'Missing due to other causes but replaced by a removable restoration',\n",
    "  'R':\n",
    "    'Missing due to dental disease but replaced by a fixed restoration',\n",
    "  'S': 'Sound permanent tooth',\n",
    "  'T':\n",
    "    'Permanent root tip is present but a restorative replacement is present',\n",
    "  'U': 'Unerupted',\n",
    "  'X': 'Missing due to other causes but replaced by a fixed restoration',\n",
    "  'Y': 'Tooth present, condition cannot be assessed',\n",
    "  'Z': 'Permanent tooth with a dental carious surface condition'\n",
    " })"
   ]
  },
  {
   "cell_type": "code",
   "execution_count": 21,
   "metadata": {},
   "outputs": [],
   "source": [
    "# read data: -----------------------------------------------------------------\n",
    "base_url = 'https://wwwn.cdc.gov/Nchs/Nhanes/'\n",
    "cohorts = (\n",
    "    ('2011-2012', 'G'),\n",
    "    ('2013-2014', 'H'),\n",
    "    ('2015-2016', 'I'),\n",
    "    ('2017-2018', 'J')\n",
    "    )\n",
    "# demographic data\n",
    "demo_file = path + '/demo.feather'"
   ]
  },
  {
   "cell_type": "code",
   "execution_count": 22,
   "metadata": {},
   "outputs": [
    {
     "data": {
      "text/plain": [
       "(39156, 12)"
      ]
     },
     "execution_count": 22,
     "metadata": {},
     "output_type": "execute_result"
    }
   ],
   "source": [
    "if exists(demo_file):\n",
    "    demo = pd.read_feather(demo_file)\n",
    "else:\n",
    "    demo_cohorts = {}\n",
    "    for cohort, label in cohorts:\n",
    "\n",
    "        # read data and subset columns\n",
    "        url = base_url + cohort + '/DEMO_' + label + '.XPT'\n",
    "        dat = pd.read_sas(url).copy()\n",
    "        dat = dat[list(demo_cols.keys())].rename(columns=demo_cols)\n",
    "\n",
    "        # assign cohort and collect\n",
    "        dat['cohort'] = cohort\n",
    "        demo_cohorts.update({cohort: dat})\n",
    "\n",
    "    # concatenate and save\n",
    "    demo = pd.concat(demo_cohorts, ignore_index=True)\n",
    " \n",
    "    # categorical variables\n",
    "    for col, d in demo_cat.items():\n",
    "        demo[col] = pd.Categorical(demo[col].replace(d))\n",
    "    demo['cohort'] = pd.Categorical(demo['cohort'])\n",
    "\n",
    "    # integer variables\n",
    "    for col in demo_int:\n",
    "        demo[col] = pd.to_numeric(demo[col], downcast='integer')\n",
    "\n",
    "    demo.to_feather(demo_file)\n",
    "demo.shape"
   ]
  },
  {
   "cell_type": "code",
   "execution_count": 23,
   "metadata": {},
   "outputs": [],
   "source": [
    "# dentition data\n",
    "ohx_file = path + '/ohx.feather'"
   ]
  },
  {
   "cell_type": "code",
   "execution_count": 24,
   "metadata": {},
   "outputs": [
    {
     "data": {
      "text/plain": [
       "(35909, 63)"
      ]
     },
     "execution_count": 24,
     "metadata": {},
     "output_type": "execute_result"
    }
   ],
   "source": [
    "if exists(ohx_file):\n",
    "    ohx = pd.read_feather(ohx_file)\n",
    "else:\n",
    "    ohx_cohorts = {}\n",
    "    for cohort, label in cohorts:\n",
    "\n",
    "        # read data and subset columns\n",
    "        url = base_url + cohort + '/OHXDEN_' + label + '.XPT'\n",
    "        dat = pd.read_sas(url).copy()\n",
    "        dat = dat[list(ohx_cols.keys())].rename(columns=ohx_cols)\n",
    "\n",
    "        # assign cohort and collect\n",
    "        dat['cohort'] = cohort\n",
    "        ohx_cohorts.update({cohort: dat})\n",
    " \n",
    "    # concatenate\n",
    "    ohx = pd.concat(ohx_cohorts, ignore_index=True)\n",
    "\n",
    "    # categorical variables\n",
    "    for col, d in ohx_cat.items():\n",
    "        ohx[col] = pd.Categorical(ohx[col].replace(d))\n",
    "    \n",
    "    for col in tc_cols.values():\n",
    "        ohx[col] = pd.Categorical(ohx[col].replace(tc))\n",
    "\n",
    "    # ctc columns get read in as bytes\n",
    "    for col in ctc_cols.values():\n",
    "        ohx[col] = ohx[col].apply(lambda x: x.decode('utf-8'))\n",
    "        ohx[col] = pd.Categorical(ohx[col].replace(ctc))\n",
    "\n",
    "    ohx['cohort'] = pd.Categorical(ohx['cohort'])\n",
    "    # integer variables\n",
    "    for col in ohx_int:\n",
    "        ohx[col] = pd.to_numeric(ohx[col], downcast='integer')\n",
    "\n",
    "    # save\n",
    "    ohx.to_feather(ohx_file)\n",
    "ohx.shape\n",
    "# ---"
   ]
  },
  {
   "cell_type": "markdown",
   "metadata": {},
   "source": [
    "The demographic and dentition datasets just created have 39,156 and 35,909 cases, respectively."
   ]
  }
 ],
 "metadata": {
  "kernelspec": {
   "display_name": "Python 3",
   "language": "python",
   "name": "python3"
  },
  "language_info": {
   "codemirror_mode": {
    "name": "ipython",
    "version": 3
   },
   "file_extension": ".py",
   "mimetype": "text/x-python",
   "name": "python",
   "nbconvert_exporter": "python",
   "pygments_lexer": "ipython3",
   "version": "3.7.3"
  }
 },
 "nbformat": 4,
 "nbformat_minor": 2
}
