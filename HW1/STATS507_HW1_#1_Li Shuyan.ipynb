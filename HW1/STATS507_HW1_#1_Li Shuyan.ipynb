{
 "cells": [
  {
   "cell_type": "markdown",
   "metadata": {},
   "source": [
    "# Question 1 - Fibonacci Sequence [30]"
   ]
  },
  {
   "cell_type": "markdown",
   "metadata": {},
   "source": [
    "The Fibonacci seuqence $F_n$ begins with the numbers $0,1,1,...$ and continues so that each entry is the sum of adding its two immediate predecessors. The sequence can be defined as follows,"
   ]
  },
  {
   "cell_type": "markdown",
   "metadata": {},
   "source": [
    "$F_n = F_{n-2} + F_{n-1}$, with $F_0 =0$, $F_1 = 1$"
   ]
  },
  {
   "cell_type": "markdown",
   "metadata": {},
   "source": [
    "A common question in a code interview asks the interviewee to sketch a program generating Fibonacci numbers at a board. In this quesiton, you will write and compare several such programs. After each function definition, write a test to ensure your function returns the following vlaues:"
   ]
  },
  {
   "cell_type": "markdown",
   "metadata": {},
   "source": [
    "$F_7 =13$, $F_{11} =89$, and $F_{13} =233$"
   ]
  },
  {
   "cell_type": "markdown",
   "metadata": {},
   "source": [
    "a. Write a recursive function `fib_rec()` that takes a single input n and returns the value of $F_n$."
   ]
  },
  {
   "cell_type": "code",
   "execution_count": 3,
   "metadata": {},
   "outputs": [],
   "source": [
    "import numpy as np\n",
    "import pandas as pd\n",
    "from math import floor \n",
    "from timeit import Timer\n",
    "from collections import defaultdict\n",
    "from IPython.core.display import display, HTML\n",
    "from scipy.stats import norm, binom, beta\n",
    "from warnings import warn"
   ]
  },
  {
   "cell_type": "code",
   "execution_count": 4,
   "metadata": {},
   "outputs": [],
   "source": [
    "def fib_rec(n, a, b):\n",
    "    \n",
    "    \"\"\"\n",
    "    Compute the Fibonacci number $F_n$, when $F_0 = a$ and $F_1 = b$.\n",
    "    \n",
    "    This function computes $F_n$ using a linear-complexity recursion.\n",
    "\n",
    "    Parameters\n",
    "    ----------\n",
    "    n : int\n",
    "        The desired Fibonacci number $F_n$.\n",
    "    a, b : int, optional.\n",
    "        Values to initialize the sequence $F_0 = a$, $F_1 = b$.\n",
    "\n",
    "    Returns\n",
    "    -------\n",
    "    The Fibonacci number $F_n$.\n",
    "\n",
    "    \"\"\"\n",
    "    \n",
    "    F_0 = a\n",
    "    F_1 = b\n",
    "    \n",
    "    if n == 0:\n",
    "        return a\n",
    "    elif n == 1:\n",
    "        return b\n",
    "    else:\n",
    "        F_n = fib_rec(n-2, a, b)+fib_rec(n-1, a, b)\n",
    "        return F_n"
   ]
  },
  {
   "cell_type": "code",
   "execution_count": 5,
   "metadata": {},
   "outputs": [
    {
     "name": "stdout",
     "output_type": "stream",
     "text": [
      "13\n",
      "89\n",
      "233\n"
     ]
    }
   ],
   "source": [
    "print(fib_rec(7, 0, 1))\n",
    "print(fib_rec(11, 0, 1))\n",
    "print(fib_rec(13, 0, 1))"
   ]
  },
  {
   "cell_type": "markdown",
   "metadata": {},
   "source": [
    "b. Write a function `fib_for()` with the same signature that computes $F_n$ by summation using a `for` loop."
   ]
  },
  {
   "cell_type": "code",
   "execution_count": 6,
   "metadata": {},
   "outputs": [],
   "source": [
    "def fib_for(n, a, b):\n",
    "    \n",
    "    \"\"\"\n",
    "    Compute the Fibonacci number $F_n$, when $F_0 = a$ and $F_1 = b$.\n",
    "\n",
    "    This function computes $F_n$ directly by iterating using a for loop.\n",
    "\n",
    "    Parameters\n",
    "    ----------\n",
    "    n : int\n",
    "        The desired Fibonacci number $F_n$. \n",
    "    a, b : int, optional.\n",
    "        Values to initialize the sequence $F_0 = a$, $F_1 = b$. \n",
    "\n",
    "    Returns\n",
    "    -------\n",
    "    The Fibonacci number $F_n$. \n",
    "\n",
    "    \"\"\"\n",
    "    \n",
    "    F_0 = a\n",
    "    F_1 = b\n",
    "    \n",
    "    if n == 0:\n",
    "        return F_0\n",
    "    elif n == 1:\n",
    "        return F_1\n",
    "    else:\n",
    "        x = F_0\n",
    "        y = F_1\n",
    "        for i in range(1, n):\n",
    "            tmp = x + y\n",
    "            x,y = y,x+y\n",
    "        return tmp"
   ]
  },
  {
   "cell_type": "code",
   "execution_count": 7,
   "metadata": {},
   "outputs": [
    {
     "name": "stdout",
     "output_type": "stream",
     "text": [
      "13\n",
      "89\n",
      "233\n"
     ]
    }
   ],
   "source": [
    "print(fib_for(7, 0, 1))\n",
    "print(fib_for(11, 0, 1))\n",
    "print(fib_for(13, 0, 1))"
   ]
  },
  {
   "cell_type": "markdown",
   "metadata": {},
   "source": [
    "c. Write a function `fib_whl()` with the same signature that computes $F_n$ by summation using a `while` loop."
   ]
  },
  {
   "cell_type": "code",
   "execution_count": 8,
   "metadata": {},
   "outputs": [],
   "source": [
    "def fib_whl(n, a, b):\n",
    "    \n",
    "    \"\"\"\n",
    "    Compute the Fibonacci number $F_n$, when $F_0 = a$ and $F_1 = b$.\n",
    "\n",
    "    This function computes $F_n$ by direct summation, iterating using a\n",
    "    while loop.\n",
    "\n",
    "    Parameters\n",
    "    ----------\n",
    "    n : int\n",
    "        The desired Fibonacci number $F_n$.\n",
    "    a, b : int, optional.\n",
    "        Values to initialize the sequence $F_0 = a$, $F_1 = b$.\n",
    "\n",
    "    Returns\n",
    "    -------\n",
    "    The Fibonacci number $F_n$.\n",
    "\n",
    "    \"\"\"\n",
    "    \n",
    "    F_0 = a\n",
    "    F_1 = b\n",
    "    \n",
    "    if n == 0:\n",
    "        return F_0\n",
    "    elif n == 1:\n",
    "        return F_1\n",
    "    else:\n",
    "        x = F_0\n",
    "        y = F_1\n",
    "        i = 1\n",
    "        while(i < n):\n",
    "            tmp = x + y\n",
    "            x,y = y,x+y\n",
    "            i = i + 1\n",
    "        return tmp"
   ]
  },
  {
   "cell_type": "code",
   "execution_count": 9,
   "metadata": {},
   "outputs": [
    {
     "name": "stdout",
     "output_type": "stream",
     "text": [
      "13\n",
      "89\n",
      "233\n"
     ]
    }
   ],
   "source": [
    "print(fib_whl(7, 0, 1))\n",
    "print(fib_whl(11, 0, 1))\n",
    "print(fib_whl(13, 0, 1))"
   ]
  },
  {
   "cell_type": "markdown",
   "metadata": {},
   "source": [
    "d. Write a function `fib_rnd()` with the same signature that computes $F_n$ using the rounding method described on the Wikipedia page linked above."
   ]
  },
  {
   "cell_type": "code",
   "execution_count": 10,
   "metadata": {},
   "outputs": [],
   "source": [
    "def fib_rnd(n, a, b):\n",
    "    \n",
    "    \"\"\"\n",
    "    Directly compute the Fibonacci number $F_n$, when $F_0 = a$ and $F_1 = b$.\n",
    "\n",
    "    This function computes $F_n$ by rounding $\\phi^n / sqrt(5)$.\n",
    "    The formula is used directly for n < 250, and is applied on the log scale\n",
    "    for 250 <= n < 1478. A ValueError is raised for larger n to avoid\n",
    "    overflow errors.\n",
    "\n",
    "\n",
    "    Parameters\n",
    "    ----------\n",
    "    n : int\n",
    "        The desired Fibonacci number $F_n$, must be less than 1478.\n",
    "    a, b : int, optional.\n",
    "        Values to initialize the sequence $F_0 = a$, $F_1 = b$.\n",
    "\n",
    "    Returns\n",
    "    -------\n",
    "    The Fibonacci number $F_n$ if n < 1478, else a ValueError.\n",
    "    \"\"\"\n",
    "    \n",
    "    U_0 = a\n",
    "    U_1 = b\n",
    "    phi = (1+np.sqrt(5))/2\n",
    "    F_n = int((U_1 - U_0)*round(phi**n/np.sqrt(5)))\n",
    "    return F_n"
   ]
  },
  {
   "cell_type": "code",
   "execution_count": 11,
   "metadata": {},
   "outputs": [
    {
     "name": "stdout",
     "output_type": "stream",
     "text": [
      "13\n",
      "89\n",
      "233\n"
     ]
    }
   ],
   "source": [
    "print(fib_rnd(7, 0, 1))\n",
    "print(fib_rnd(11, 0, 1))\n",
    "print(fib_rnd(13, 0, 1))"
   ]
  },
  {
   "cell_type": "markdown",
   "metadata": {},
   "source": [
    "e. Write a function `fib_flr()` with the same signature that computes $F_n$ using the truncation method described on the Wikipedia page linked above."
   ]
  },
  {
   "cell_type": "code",
   "execution_count": 12,
   "metadata": {},
   "outputs": [],
   "source": [
    "def fib_flr(n, a, b):\n",
    "    \n",
    "    \"\"\"\n",
    "    Directly compute the Fibonacci number $F_n$, when $F_0 = a$ and $F_1 = b$.\n",
    "\n",
    "    This function computes $F_n$ by finding the smallest integer less than\n",
    "    $\\phi^n / sqrt(5) + 0.5$. The formula is used directly for n < 250, and is\n",
    "    applied on the log scale for 250 <= n < 1477. A ValueError is raised for\n",
    "    larger n to avoid integer overflow.\n",
    "\n",
    "\n",
    "    Parameters\n",
    "    ----------\n",
    "    n : int\n",
    "        The desired Fibonacci number $F_n$, must be less than 1478.\n",
    "    a, b : int, optional.\n",
    "        Values to initialize the sequence $F_0 = a$, $F_1 = b$.\n",
    "\n",
    "    Returns\n",
    "    -------\n",
    "    The Fibonacci number $F_n$ if n < 1477, else a ValueError.\n",
    "    \"\"\"\n",
    "    \n",
    "    U_0 = a\n",
    "    U_1 = b\n",
    "    phi = (1+np.sqrt(5))/2\n",
    "    F_n = (U_1 - U_0) * math.floor((phi**n/np.sqrt(5)+1/2))\n",
    "    return F_n"
   ]
  },
  {
   "cell_type": "code",
   "execution_count": 13,
   "metadata": {},
   "outputs": [
    {
     "name": "stdout",
     "output_type": "stream",
     "text": [
      "13\n",
      "89\n",
      "233\n"
     ]
    }
   ],
   "source": [
    "print(fib_flr(7, 0, 1))\n",
    "print(fib_flr(11, 0, 1))\n",
    "print(fib_flr(13, 0, 1))"
   ]
  },
  {
   "cell_type": "markdown",
   "metadata": {},
   "source": [
    "f. For a sequence of increasingly large values of `n` compare the median computation time of each of the functions above. Present your results in a nicely formatted table. (Point estimates are sufficient)."
   ]
  },
  {
   "cell_type": "code",
   "execution_count": null,
   "metadata": {},
   "outputs": [],
   "source": [
    "#Initialize a and b\n",
    "a = 0\n",
    "b = 1\n",
    "\n",
    "\n",
    "# timing comparisons: ---------------------------------------------------------\n",
    "n_mc = 10000\n",
    "res = defaultdict(list)\n",
    "n_seq = [21, 42, 233, 1001]\n",
    "res['n'] = n_seq\n",
    "for f in (fib_rec, fib_for, fib_whl, fib_rnd, fib_flr):\n",
    "    for n in n_seq:\n",
    "        t = Timer('f(n, a, b)', globals={'f': f, 'n': n, 'a': a, 'b': b})\n",
    "        m = np.median([t.timeit(1) for i in range(n_mc)]) \n",
    "        res[f.__name__].append(round(m * 1e6, 1))"
   ]
  },
  {
   "cell_type": "code",
   "execution_count": null,
   "metadata": {},
   "outputs": [],
   "source": [
    "# construct a table, include a caption: ---------------------------------------\n",
    "cap = \"\"\"\n",
    "<b> Table 1.</b> <em> Timing comparisons for Fibonacci functions.</em>\n",
    "Median computation times, in micro seconds, from 10,000 trial runs at\n",
    "each n.  While the direct computation methods are faster, they become \n",
    "inaccurate for n > 71 due to finite floating point precision. \n",
    "\"\"\"\n",
    "res = pd.DataFrame(res)\n",
    "t1 = res.to_html(index=False)\n",
    "t1 = t1.rsplit('\\n')\n",
    "t1.insert(1, cap)\n",
    "tab1 = ''\n",
    "for i, line in enumerate(t1):\n",
    "    tab1 += line\n",
    "    if i < (len(t1) - 1):\n",
    "        tab1 += '\\n'"
   ]
  },
  {
   "cell_type": "code",
   "execution_count": null,
   "metadata": {},
   "outputs": [],
   "source": [
    "display(HTML(tab1))"
   ]
  },
  {
   "cell_type": "markdown",
   "metadata": {},
   "source": [
    "Obviously, `recursive function` is the slowest way to calculate Fibonacci Sequence.\n",
    "With small n, we can find that `for loop` and `while loop` are the most efficient way and recursive function is the slowest way to calculate Fibonacci Sequence."
   ]
  },
  {
   "cell_type": "markdown",
   "metadata": {},
   "source": [
    "Since recursive method is so time-consuming, we want to compare the other 4 methods with larger n."
   ]
  },
  {
   "cell_type": "markdown",
   "metadata": {},
   "source": [
    "However, when n grows larger, `fib_flr` function runs fastest."
   ]
  }
 ],
 "metadata": {
  "jupytext": {
   "formats": "ipynb,py:light"
  },
  "kernelspec": {
   "display_name": "Python 3",
   "language": "python",
   "name": "python3"
  },
  "language_info": {
   "codemirror_mode": {
    "name": "ipython",
    "version": 3
   },
   "file_extension": ".py",
   "mimetype": "text/x-python",
   "name": "python",
   "nbconvert_exporter": "python",
   "pygments_lexer": "ipython3",
   "version": "3.7.3"
  }
 },
 "nbformat": 4,
 "nbformat_minor": 2
}
